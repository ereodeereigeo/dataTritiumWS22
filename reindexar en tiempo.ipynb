{
 "metadata": {
  "name": "",
  "signature": "sha256:494e7706e55112800e69b18264dffbaaa3658b691144f94767cac92ef5116fc9"
 },
 "nbformat": 3,
 "nbformat_minor": 0,
 "worksheets": [
  {
   "cells": [
    {
     "cell_type": "code",
     "collapsed": false,
     "input": [
      "import ext_datos as ext\n",
      "import obtener as ob\n",
      "import pandas as pd"
     ],
     "language": "python",
     "metadata": {},
     "outputs": [],
     "prompt_number": 1
    },
    {
     "cell_type": "code",
     "collapsed": false,
     "input": [
      "data = ext.extraer_data('dia2')"
     ],
     "language": "python",
     "metadata": {},
     "outputs": [],
     "prompt_number": 2
    },
    {
     "cell_type": "code",
     "collapsed": false,
     "input": [
      "data"
     ],
     "language": "python",
     "metadata": {},
     "outputs": []
    },
    {
     "cell_type": "code",
     "collapsed": false,
     "input": [
      "data[1].dtypes"
     ],
     "language": "python",
     "metadata": {},
     "outputs": []
    },
    {
     "cell_type": "code",
     "collapsed": false,
     "input": [
      "motor1 = []\n",
      "motor2 = []\n",
      "for tablas in data:\n",
      "    motor = tablas[tablas['errors']<' 0x40']\n",
      "    if len(motor.values) != 0:\n",
      "        motor1.append(motor)\n",
      "    motor = tablas[tablas['errors']>=' 0x40']\n",
      "    if len(motor.values) != 0:\n",
      "        motor2.append(motor)"
     ],
     "language": "python",
     "metadata": {},
     "outputs": [],
     "prompt_number": 3
    },
    {
     "cell_type": "code",
     "collapsed": false,
     "input": [
      "len(motor2)"
     ],
     "language": "python",
     "metadata": {},
     "outputs": [
      {
       "metadata": {},
       "output_type": "pyout",
       "prompt_number": 4,
       "text": [
        "13"
       ]
      }
     ],
     "prompt_number": 4
    },
    {
     "cell_type": "code",
     "collapsed": false,
     "input": [
      "motor1total = pd.concat(motor1)\n",
      "motor1total = motor1total.resample('200ms')\n",
      "motor2total = pd.concat(motor2)\n",
      "motor2total = motor2total.resample('200ms')"
     ],
     "language": "python",
     "metadata": {},
     "outputs": [],
     "prompt_number": 5
    },
    {
     "cell_type": "code",
     "collapsed": false,
     "input": [
      "pd.options.display.max_rows = 20000"
     ],
     "language": "python",
     "metadata": {},
     "outputs": [],
     "prompt_number": 8
    },
    {
     "cell_type": "code",
     "collapsed": false,
     "input": [
      "motores = None\n",
      "if motor1total.index[-1]>motor2total.index[-1]:\n",
      "    motores = motor1total.join(motor2total,how='outer',lsuffix = '_m1', rsuffix = '_m2')\n",
      "else:\n",
      "    motores = motor2total.join(motor1total,how='outer',lsuffix = '_m2', rsuffix = '_m1')"
     ],
     "language": "python",
     "metadata": {},
     "outputs": [],
     "prompt_number": 12
    },
    {
     "cell_type": "code",
     "collapsed": false,
     "input": [
      "motores['busVoltage_m1'].plot()"
     ],
     "language": "python",
     "metadata": {},
     "outputs": []
    },
    {
     "cell_type": "code",
     "collapsed": false,
     "input": [],
     "language": "python",
     "metadata": {},
     "outputs": []
    }
   ],
   "metadata": {}
  }
 ]
}