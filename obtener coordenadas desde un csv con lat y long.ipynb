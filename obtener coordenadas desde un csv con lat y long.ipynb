{
 "metadata": {
  "name": "",
  "signature": "sha256:51c17a8f4513401b0b35bae73cb4268ab45362e82ba20ea1f19c508fbcfa0d81"
 },
 "nbformat": 3,
 "nbformat_minor": 0,
 "worksheets": [
  {
   "cells": [
    {
     "cell_type": "code",
     "collapsed": false,
     "input": [
      "import urllib.request\n",
      "import json"
     ],
     "language": "python",
     "metadata": {},
     "outputs": [],
     "prompt_number": 14
    },
    {
     "cell_type": "code",
     "collapsed": false,
     "input": [
      "x = 30.+(27/60.)\n",
      "print (str(x))\n",
      "y = 70.+(40/60.)\n",
      "print (str(y))"
     ],
     "language": "python",
     "metadata": {},
     "outputs": [
      {
       "output_type": "stream",
       "stream": "stdout",
       "text": [
        "30.45\n",
        "70.66666666666667\n"
       ]
      }
     ],
     "prompt_number": 12
    },
    {
     "cell_type": "code",
     "collapsed": false,
     "input": [
      "lati = input(\"Enter the latitude:\")\n",
      "lngi = input(\"Enter the longitude:\")\n",
      "\n",
      "# url_params completes the base url with the given latitude and longitude values\n",
      "ELEVATION_BASE_URL = 'http://maps.googleapis.com/maps/api/elevation/json?'\n",
      "URL_PARAMS = \"locations=%s,%s&sensor=%s\" % (lati, lngi, \"false\")\n",
      "url=ELEVATION_BASE_URL + URL_PARAMS\n",
      "with urllib.request.urlopen(url) as f:\n",
      "    response = json.loads(f.read().decode())    \n",
      "    status = response[\"status\"]\n",
      "    result = response[\"results\"][0]\n",
      "print(float(result[\"elevation\"]))\n",
      "print(float(result[\"location\"][\"lat\"]))\n",
      "print(float(result[\"location\"][\"lng\"]))"
     ],
     "language": "python",
     "metadata": {},
     "outputs": [
      {
       "name": "stdout",
       "output_type": "stream",
       "stream": "stdout",
       "text": [
        "Enter the latitude:-33.425278\n"
       ]
      },
      {
       "name": "stdout",
       "output_type": "stream",
       "stream": "stdout",
       "text": [
        "Enter the longitude:-70.633333\n"
       ]
      },
      {
       "output_type": "stream",
       "stream": "stdout",
       "text": [
        "837.7554321289062\n",
        "-33.425278\n",
        "-70.633333\n"
       ]
      }
     ],
     "prompt_number": 16
    },
    {
     "cell_type": "code",
     "collapsed": false,
     "input": [],
     "language": "python",
     "metadata": {},
     "outputs": [],
     "prompt_number": 17
    },
    {
     "cell_type": "code",
     "collapsed": false,
     "input": [],
     "language": "python",
     "metadata": {},
     "outputs": [],
     "prompt_number": 24
    },
    {
     "cell_type": "code",
     "collapsed": false,
     "input": [],
     "language": "python",
     "metadata": {},
     "outputs": [],
     "prompt_number": 25
    },
    {
     "cell_type": "code",
     "collapsed": false,
     "input": [],
     "language": "python",
     "metadata": {},
     "outputs": [],
     "prompt_number": 26
    },
    {
     "cell_type": "code",
     "collapsed": false,
     "input": [],
     "language": "python",
     "metadata": {},
     "outputs": [
      {
       "ename": "SyntaxError",
       "evalue": "invalid syntax (<ipython-input-28-e79d4685395e>, line 1)",
       "output_type": "pyerr",
       "traceback": [
        "\u001b[0;36m  File \u001b[0;32m\"<ipython-input-28-e79d4685395e>\"\u001b[0;36m, line \u001b[0;32m1\u001b[0m\n\u001b[0;31m    kml <placemark>\u001b[0m\n\u001b[0m                   ^\u001b[0m\n\u001b[0;31mSyntaxError\u001b[0m\u001b[0;31m:\u001b[0m invalid syntax\n"
       ]
      }
     ],
     "prompt_number": 28
    },
    {
     "cell_type": "code",
     "collapsed": false,
     "input": [],
     "language": "python",
     "metadata": {},
     "outputs": []
    }
   ],
   "metadata": {}
  }
 ]
}