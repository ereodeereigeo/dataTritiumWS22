{
 "metadata": {
  "name": "",
  "signature": "sha256:4085830cd2e97203f1e5b46fb7e6c47933ec048478eb2e23a5f5a8125420daae"
 },
 "nbformat": 3,
 "nbformat_minor": 0,
 "worksheets": [
  {
   "cells": [
    {
     "cell_type": "code",
     "collapsed": true,
     "input": [
      "import ext_datos as ext\n",
      "import pandas as pd\n",
      "import matplotlib.pyplot as plt\n",
      "import procesar as pr\n",
      "import rellenar as re"
     ],
     "language": "python",
     "metadata": {},
     "outputs": [],
     "prompt_number": 1
    },
    {
     "cell_type": "code",
     "collapsed": true,
     "input": [
      "data = ext.extraer_data('dia2')"
     ],
     "language": "python",
     "metadata": {},
     "outputs": [],
     "prompt_number": 2
    },
    {
     "cell_type": "code",
     "collapsed": true,
     "input": [
      "motores = pr.procesar(data)"
     ],
     "language": "python",
     "metadata": {},
     "outputs": [],
     "prompt_number": 3
    },
    {
     "cell_type": "code",
     "collapsed": false,
     "input": [
      "motoresTest=motores.dropna()"
     ],
     "language": "python",
     "metadata": {},
     "outputs": [],
     "prompt_number": 4
    },
    {
     "cell_type": "code",
     "collapsed": false,
     "input": [
      "import chartkick"
     ],
     "language": "python",
     "metadata": {},
     "outputs": [],
     "prompt_number": 5
    },
    {
     "cell_type": "code",
     "collapsed": false,
     "input": [],
     "language": "python",
     "metadata": {},
     "outputs": [
      {
       "metadata": {},
       "output_type": "pyout",
       "prompt_number": 21,
       "text": [
        "208236"
       ]
      }
     ],
     "prompt_number": 21
    },
    {
     "cell_type": "code",
     "collapsed": false,
     "input": [
      "motoresTest=motoresTest[['busVoltage_m1','busVoltage_m2']]\n",
      "motoresTest=motoresTest.reindex(np.random.permutation(motoresTest.index))"
     ],
     "language": "python",
     "metadata": {},
     "outputs": [],
     "prompt_number": 22
    },
    {
     "cell_type": "code",
     "collapsed": false,
     "input": [
      "motor1=motoresTest['busVoltage_m1']\n",
      "motor2=motoresTest['busVoltage_m2']"
     ],
     "language": "python",
     "metadata": {},
     "outputs": [],
     "prompt_number": 23
    },
    {
     "cell_type": "code",
     "collapsed": false,
     "input": [
      "from sklearn import linear_model"
     ],
     "language": "python",
     "metadata": {},
     "outputs": [],
     "prompt_number": 24
    },
    {
     "cell_type": "code",
     "collapsed": false,
     "input": [
      "motor1test=motor1[:len(motor1)/2]\n",
      "motor2test=motor2[:len(motor2)/2]\n",
      "motor1val=motor1[len(motor1)/2:]\n",
      "motor2val=motor2[len(motor2)/2:]"
     ],
     "language": "python",
     "metadata": {},
     "outputs": [],
     "prompt_number": 25
    },
    {
     "cell_type": "code",
     "collapsed": false,
     "input": [
      "xx = motor1test.reshape((motor1test.shape[0],-1))\n",
      "yy = motor2test.reshape((motor2test.shape[0],-1))\n",
      "xt = motor1val.reshape((motor1val.shape[0],-1))\n",
      "yt = motor2val.reshape((motor2val.shape[0],-1))"
     ],
     "language": "python",
     "metadata": {},
     "outputs": [],
     "prompt_number": 26
    },
    {
     "cell_type": "code",
     "collapsed": false,
     "input": [
      "regr = linear_model.LinearRegression()"
     ],
     "language": "python",
     "metadata": {},
     "outputs": [],
     "prompt_number": 27
    },
    {
     "cell_type": "code",
     "collapsed": false,
     "input": [
      "regr.fit(xx,yy)"
     ],
     "language": "python",
     "metadata": {},
     "outputs": [
      {
       "metadata": {},
       "output_type": "pyout",
       "prompt_number": 28,
       "text": [
        "LinearRegression(copy_X=True, fit_intercept=True, normalize=False)"
       ]
      }
     ],
     "prompt_number": 28
    },
    {
     "cell_type": "code",
     "collapsed": false,
     "input": [
      "print(regr.coef_,regr.intercept_)"
     ],
     "language": "python",
     "metadata": {},
     "outputs": [
      {
       "output_type": "stream",
       "stream": "stdout",
       "text": [
        "(array([[ 1.00212909]]), array([-0.3345311]))\n"
       ]
      }
     ],
     "prompt_number": 29
    },
    {
     "cell_type": "code",
     "collapsed": false,
     "input": [
      "np.mean((regr.predict(xt)-yt)**2)"
     ],
     "language": "python",
     "metadata": {},
     "outputs": [
      {
       "metadata": {},
       "output_type": "pyout",
       "prompt_number": 30,
       "text": [
        "0.56373398610309999"
       ]
      }
     ],
     "prompt_number": 30
    },
    {
     "cell_type": "code",
     "collapsed": false,
     "input": [
      "regr.score(xt, yt)"
     ],
     "language": "python",
     "metadata": {},
     "outputs": [
      {
       "metadata": {},
       "output_type": "pyout",
       "prompt_number": 31,
       "text": [
        "0.9972757018507804"
       ]
      }
     ],
     "prompt_number": 31
    },
    {
     "cell_type": "code",
     "collapsed": false,
     "input": [
      "plt.scatter(xt,yt,  color='black')\n",
      "plt.plot(xt, regr.predict(xt), color='blue',linewidth=3)\n",
      "\n",
      "plt.show()"
     ],
     "language": "python",
     "metadata": {},
     "outputs": [
      {
       "metadata": {},
       "output_type": "display_data",
       "png": "[encoded data removed]",
       "text": [
        "<matplotlib.figure.Figure at 0x13b63990>"
       ]
      }
     ],
     "prompt_number": 32
    },
    {
     "cell_type": "code",
     "collapsed": false,
     "input": [
      "np.array([regr.intercept_[0], regr.coef_[0]])"
     ],
     "language": "python",
     "metadata": {},
     "outputs": []
    },
    {
     "cell_type": "code",
     "collapsed": false,
     "input": [
      "ecuacion_lineal_voltaje_m2=re.regresion_lineal(motores,'busVoltage_m1','busVoltage_m2')"
     ],
     "language": "python",
     "metadata": {},
     "outputs": [
      {
       "output_type": "stream",
       "stream": "stdout",
       "text": [
        "la ecuacion de regresion lineal es: -0.448088 + 1.002858x\n",
        "el error cuadratico medio es: 0.581786, (menor valor es mejor ajuste)\n",
        "la varianza es: 0.997300, (1 significa prediccion perfecta)\n"
       ]
      },
      {
       "metadata": {},
       "output_type": "display_data",
       "png": "[encoded data removed]",
       "text": [
        "<matplotlib.figure.Figure at 0x7f6f44f5aad0>"
       ]
      }
     ],
     "prompt_number": 4
    },
    {
     "cell_type": "code",
     "collapsed": false,
     "input": [],
     "language": "python",
     "metadata": {},
     "outputs": [
      {
       "ename": "AttributeError",
       "evalue": "'module' object has no attribute 'score'",
       "output_type": "pyerr",
       "traceback": [
        "\u001b[1;31m---------------------------------------------------------------------------\u001b[0m\n\u001b[1;31mAttributeError\u001b[0m                            Traceback (most recent call last)",
        "\u001b[1;32m<ipython-input-7-368e828df2db>\u001b[0m in \u001b[0;36m<module>\u001b[1;34m()\u001b[0m\n\u001b[1;32m----> 1\u001b[1;33m \u001b[0mre\u001b[0m\u001b[1;33m.\u001b[0m\u001b[0mscore\u001b[0m\u001b[1;33m\u001b[0m\u001b[0m\n\u001b[0m",
        "\u001b[1;31mAttributeError\u001b[0m: 'module' object has no attribute 'score'"
       ]
      }
     ],
     "prompt_number": 7
    },
    {
     "cell_type": "code",
     "collapsed": false,
     "input": [
      "ecuacion_lineal_voltaje_m1=re.regresion_lineal(motores,'busVoltage_m2','busVoltage_m1')"
     ],
     "language": "python",
     "metadata": {},
     "outputs": [
      {
       "output_type": "stream",
       "stream": "stdout",
       "text": [
        "la ecuacion de regresion lineal es: 0.784864 + 0.994863x\n",
        "el error cuadratico medio es: 0.581063, (menor valor es mejor ajuste)\n",
        "la varianza es: 0.997191, (1 significa prediccion perfecta)\n"
       ]
      },
      {
       "metadata": {},
       "output_type": "display_data",
       "png": "[encoded data removed]",
       "text": [
        "<matplotlib.figure.Figure at 0x7f6f1416c6d0>"
       ]
      }
     ],
     "prompt_number": 58
    },
    {
     "cell_type": "code",
     "collapsed": false,
     "input": [
      "ecuacion_lineal_corriente_m1=re.regresion_lineal(motores,'busCurrent_m2','busCurrent_m1')"
     ],
     "language": "python",
     "metadata": {},
     "outputs": [
      {
       "output_type": "stream",
       "stream": "stdout",
       "text": [
        "la ecuacion de regresion lineal es: 0.406216 + 1.132608x\n",
        "el error cuadratico medio es: 3.526157, (menor valor es mejor ajuste)\n",
        "la varianza es: 0.925885, (1 significa prediccion perfecta)\n"
       ]
      },
      {
       "metadata": {},
       "output_type": "display_data",
       "png": "[encoded data removed]",
       "text": [
        "<matplotlib.figure.Figure at 0x7f6f14bdf710>"
       ]
      }
     ],
     "prompt_number": 59
    },
    {
     "cell_type": "code",
     "collapsed": false,
     "input": [
      "motorTest=motores.dropna()"
     ],
     "language": "python",
     "metadata": {},
     "outputs": [],
     "prompt_number": 60
    },
    {
     "cell_type": "code",
     "collapsed": false,
     "input": [
      "Potencia=motorTest.busCurrent_m1*motorTest.busVoltage_m1+motorTest.busCurrent_m2*motorTest.busVoltage_m2"
     ],
     "language": "python",
     "metadata": {},
     "outputs": [],
     "prompt_number": 61
    },
    {
     "cell_type": "code",
     "collapsed": false,
     "input": [
      "from scipy import integrate\n",
      "import pandas as pd\n",
      "import numpy as np\n",
      "\n",
      "def integrate_method(self, how='trapz', unit='s'):\n",
      "    '''Numerically integrate the time series.\n",
      "\n",
      "    @param how: the method to use (trapz by default)\n",
      "    @return \n",
      "\n",
      "    Available methods:\n",
      "     * trapz - trapezoidal\n",
      "     * cumtrapz - cumulative trapezoidal\n",
      "     * simps - Simpson's rule\n",
      "     * romb - Romberger's rule\n",
      "\n",
      "    See http://docs.scipy.org/doc/scipy/reference/integrate.html for the method details.\n",
      "    or the source code\n",
      "    https://github.com/scipy/scipy/blob/master/scipy/integrate/quadrature.py\n",
      "    '''\n",
      "    available_rules = set(['trapz', 'cumtrapz', 'simps', 'romb'])\n",
      "    if how in available_rules:\n",
      "        rule = integrate.__getattribute__(how)\n",
      "    else:\n",
      "        print('Unsupported integration rule: %s' % (how))\n",
      "        print('Expecting one of these sample-based integration rules: %s' % (str(list(available_rules))))\n",
      "        raise AttributeError\n",
      "    \n",
      "    result = rule(self.values, self.index.astype(np.int64) / 10**9)\n",
      "    #result = rule(self.values)\n",
      "    return result\n",
      "\n",
      "pd.TimeSeries.integrate = integrate_method"
     ],
     "language": "python",
     "metadata": {},
     "outputs": [],
     "prompt_number": 18
    },
    {
     "cell_type": "code",
     "collapsed": false,
     "input": [
      "Potencia.integrate()"
     ],
     "language": "python",
     "metadata": {},
     "outputs": [
      {
       "metadata": {},
       "output_type": "pyout",
       "prompt_number": 25,
       "text": [
        "20499512.706907701"
       ]
      }
     ],
     "prompt_number": 25
    },
    {
     "cell_type": "code",
     "collapsed": false,
     "input": [
      "np.trapz(Potencia.values, x=None, dx=0.2)"
     ],
     "language": "python",
     "metadata": {},
     "outputs": [
      {
       "metadata": {},
       "output_type": "pyout",
       "prompt_number": 62,
       "text": [
        "9917028.8053125944"
       ]
      }
     ],
     "prompt_number": 62
    },
    {
     "cell_type": "code",
     "collapsed": false,
     "input": [
      "busVoltageEst = motorTest.busVoltage_m1*ecuacion_lineal_voltaje_m1[1]+ecuacion_lineal_voltaje_m1[0]"
     ],
     "language": "python",
     "metadata": {},
     "outputs": [],
     "prompt_number": 63
    },
    {
     "cell_type": "code",
     "collapsed": false,
     "input": [
      "busCurrentEst = motorTest.busCurrent_m1*ecuacion_lineal_corriente_m1[1]+ecuacion_lineal_corriente_m1[0]"
     ],
     "language": "python",
     "metadata": {},
     "outputs": [],
     "prompt_number": 64
    },
    {
     "cell_type": "code",
     "collapsed": false,
     "input": [
      "PotenciaEst=motorTest.busCurrent_m1*motorTest.busVoltage_m1+busVoltageEst*busCurrentEst"
     ],
     "language": "python",
     "metadata": {},
     "outputs": [],
     "prompt_number": 65
    },
    {
     "cell_type": "code",
     "collapsed": false,
     "input": [
      "np.trapz(PotenciaEst.values, x=None, dx=0.2)"
     ],
     "language": "python",
     "metadata": {},
     "outputs": [
      {
       "metadata": {},
       "output_type": "pyout",
       "prompt_number": 66,
       "text": [
        "13250955.452463975"
       ]
      }
     ],
     "prompt_number": 66
    },
    {
     "cell_type": "code",
     "collapsed": false,
     "input": [
      "np.trapz(PotenciaEst.values, x=None, dx=0.2)"
     ],
     "language": "python",
     "metadata": {},
     "outputs": []
    }
   ],
   "metadata": {}
  }
 ]
}