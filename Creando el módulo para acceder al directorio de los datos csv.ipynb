{
 "metadata": {
  "name": "",
  "signature": "sha256:4517f143ff288d5a5f65d47e33d3a97b0740192ba8f724aaadd74588725c5c5e"
 },
 "nbformat": 3,
 "nbformat_minor": 0,
 "worksheets": [
  {
   "cells": [
    {
     "cell_type": "code",
     "collapsed": false,
     "input": [
      "import os\n",
      "\n",
      "def obtener_archivos(directorio , fecha=None):\n",
      "\n",
      "    directorio_actual = os.getcwd()\n",
      "    lista_dir_act = directorio_actual.split('/')\n",
      "    if directorio_actual == directorio or directorio == lista_dir_act[-1]: #verificamos si los archivos est\u00e1n en el mismo directorio del m\u00f3dulo\n",
      "        return 'est\u00e1'\n",
      "    elif os.path.exists(directorio): #si no probamos si est\u00e1 en una carpeta dentro del directorio actual\n",
      "        os.chdir(directorio) #y si est\u00e1 entramos a esa carpeta\n",
      "        return os.getcwd()\n",
      "    else:\n",
      "        return '''Error, ingrese el directorio completo:\n",
      "                \n",
      "    linux: '/home/user/.../carpeta' \n",
      "                \n",
      "    windows: 'C:\\Usuario\\Escritorio\\Carpeta' '''\n",
      "\n",
      "print obtener_archivos('dia23')"
     ],
     "language": "python",
     "metadata": {},
     "outputs": [
      {
       "output_type": "stream",
       "stream": "stdout",
       "text": [
        "Error, ingrese el directorio completo:\n",
        "                \n",
        "    linux: '/home/user/.../carpeta' \n",
        "                \n",
        "    windows: 'C:\\Usuario\\Escritorio\\Carpeta' \n"
       ]
      }
     ],
     "prompt_number": 24
    },
    {
     "cell_type": "code",
     "collapsed": false,
     "input": [
      "if  '\\usuario\\Escritorio'.find('\\'):\n",
      "    print True"
     ],
     "language": "python",
     "metadata": {},
     "outputs": [
      {
       "output_type": "stream",
       "stream": "stdout",
       "text": [
        "True\n"
       ]
      }
     ],
     "prompt_number": 31
    },
    {
     "cell_type": "code",
     "collapsed": false,
     "input": [
      "lista = ['WSlog', 'b']"
     ],
     "language": "python",
     "metadata": {},
     "outputs": [],
     "prompt_number": 45
    },
    {
     "cell_type": "code",
     "collapsed": false,
     "input": [
      "for i in xrange(0,len(lista)-1):\n",
      "        if not 'WSlog' in lista[i]:\n",
      "            lista.remove(i-1)"
     ],
     "language": "python",
     "metadata": {},
     "outputs": [],
     "prompt_number": 49
    },
    {
     "cell_type": "code",
     "collapsed": false,
     "input": [
      "lista"
     ],
     "language": "python",
     "metadata": {},
     "outputs": [
      {
       "metadata": {},
       "output_type": "pyout",
       "prompt_number": 50,
       "text": [
        "['WSlog', 'b']"
       ]
      }
     ],
     "prompt_number": 50
    },
    {
     "cell_type": "code",
     "collapsed": false,
     "input": [
      "ls"
     ],
     "language": "python",
     "metadata": {},
     "outputs": [
      {
       "output_type": "stream",
       "stream": "stdout",
       "text": [
        "WSlog_2014-11-14_08-53-36.csv  WSlog_2014-11-14_11-33-15.csv  WSlog_2014-11-14_14-26-02.csv\r\n",
        "WSlog_2014-11-14_08-53-42.csv  WSlog_2014-11-14_11-41-25.csv  WSlog_2014-11-14_14-26-05.csv\r\n",
        "WSlog_2014-11-14_10-08-29.csv  WSlog_2014-11-14_11-41-36.csv  WSlog_2014-11-14_15-20-45.csv\r\n",
        "WSlog_2014-11-14_10-08-33.csv  WSlog_2014-11-14_12-25-49.csv  WSlog_2014-11-14_15-20-49.csv\r\n",
        "WSlog_2014-11-14_10-35-41.csv  WSlog_2014-11-14_12-25-52.csv  WSlog_2014-11-14_15-55-45.csv\r\n",
        "WSlog_2014-11-14_10-35-44.csv  WSlog_2014-11-14_12-45-16.csv  WSlog_2014-11-14_15-55-49.csv\r\n",
        "WSlog_2014-11-14_11-33-12.csv  WSlog_2014-11-14_12-45-20.csv\r\n"
       ]
      }
     ],
     "prompt_number": 51
    },
    {
     "cell_type": "code",
     "collapsed": false,
     "input": [],
     "language": "python",
     "metadata": {},
     "outputs": []
    }
   ],
   "metadata": {}
  }
 ]
}