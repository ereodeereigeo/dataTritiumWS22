{
 "cells": [
  {
   "cell_type": "markdown",
   "metadata": {},
   "source": [
    "* Importamos las librerías necesarias"
   ]
  },
  {
   "cell_type": "code",
   "execution_count": 1,
   "metadata": {
    "collapsed": true
   },
   "outputs": [],
   "source": [
    "import pandas as pd\n",
    "import matplotlib.pyplot as plt"
   ]
  },
  {
   "cell_type": "code",
   "execution_count": 2,
   "metadata": {
    "collapsed": true
   },
   "outputs": [],
   "source": [
    "%matplotlib inline"
   ]
  },
  {
   "cell_type": "markdown",
   "metadata": {},
   "source": [
    "* Importamos las librerías creadas para trabajar"
   ]
  },
  {
   "cell_type": "code",
   "execution_count": 3,
   "metadata": {
    "collapsed": true
   },
   "outputs": [],
   "source": [
    "import ext_datos as ext\n",
    "import procesar as pro\n",
    "import time_plot as tplt"
   ]
  },
  {
   "cell_type": "markdown",
   "metadata": {},
   "source": [
    "* Generamos los datasets de todos los días"
   ]
  },
  {
   "cell_type": "markdown",
   "metadata": {},
   "source": [
    "* En primer lugar se extraen los datos de todos los archivos\n",
    "    de cada día y se genera una lista de tablas separadas por motor"
   ]
  },
  {
   "cell_type": "code",
   "execution_count": 4,
   "metadata": {
    "collapsed": false
   },
   "outputs": [],
   "source": [
    "dia1 = ext.extraer_data('dia1')"
   ]
  },
  {
   "cell_type": "code",
   "execution_count": 5,
   "metadata": {
    "collapsed": false
   },
   "outputs": [
    {
     "name": "stdout",
     "output_type": "stream",
     "text": [
      "c:\\Users\\Angelica\\dataTritiumWS22\n"
     ]
    }
   ],
   "source": [
    "cd .."
   ]
  },
  {
   "cell_type": "code",
   "execution_count": 6,
   "metadata": {
    "collapsed": true
   },
   "outputs": [],
   "source": [
    "dia2 = ext.extraer_data('dia2')"
   ]
  },
  {
   "cell_type": "code",
   "execution_count": 7,
   "metadata": {
    "collapsed": false
   },
   "outputs": [
    {
     "name": "stdout",
     "output_type": "stream",
     "text": [
      "c:\\Users\\Angelica\\dataTritiumWS22\n"
     ]
    }
   ],
   "source": [
    "cd .."
   ]
  },
  {
   "cell_type": "code",
   "execution_count": 8,
   "metadata": {
    "collapsed": true
   },
   "outputs": [],
   "source": [
    "dia3 = ext.extraer_data('dia3')"
   ]
  },
  {
   "cell_type": "code",
   "execution_count": 9,
   "metadata": {
    "collapsed": false
   },
   "outputs": [
    {
     "name": "stdout",
     "output_type": "stream",
     "text": [
      "c:\\Users\\Angelica\\dataTritiumWS22\n"
     ]
    }
   ],
   "source": [
    "cd .."
   ]
  },
  {
   "cell_type": "code",
   "execution_count": 10,
   "metadata": {
    "collapsed": true
   },
   "outputs": [],
   "source": [
    "dia4 = ext.extraer_data('dia4')"
   ]
  },
  {
   "cell_type": "markdown",
   "metadata": {},
   "source": [
    "* Se procesan las listas anteriores, se concatenan por motor según\n",
    "    la hora de los registros y se rellenan los espacios vacíos con\n",
    "    datos NaN, luego se juntan de costado las tablas (join) y se\n",
    "    le añade el sufijo _m1 y _m2 para diferenciar las columnas"
   ]
  },
  {
   "cell_type": "code",
   "execution_count": 11,
   "metadata": {
    "collapsed": true
   },
   "outputs": [],
   "source": [
    "motoresdia1 = pro.procesar(dia1)"
   ]
  },
  {
   "cell_type": "code",
   "execution_count": 12,
   "metadata": {
    "collapsed": true
   },
   "outputs": [],
   "source": [
    "motoresdia2 = pro.procesar(dia2)"
   ]
  },
  {
   "cell_type": "code",
   "execution_count": 13,
   "metadata": {
    "collapsed": true
   },
   "outputs": [],
   "source": [
    "motoresdia3 = pro.procesar(dia3)"
   ]
  },
  {
   "cell_type": "code",
   "execution_count": 14,
   "metadata": {
    "collapsed": true
   },
   "outputs": [],
   "source": [
    "motoresdia4 = pro.procesar(dia4)"
   ]
  },
  {
   "cell_type": "markdown",
   "metadata": {},
   "source": [
    "* Cálculo de promedios"
   ]
  },
  {
   "cell_type": "markdown",
   "metadata": {},
   "source": [
    "### Día 4"
   ]
  },
  {
   "cell_type": "markdown",
   "metadata": {},
   "source": [
    "* Se añade la potencia calculada como $V\\cdot{I}$"
   ]
  },
  {
   "cell_type": "code",
   "execution_count": 15,
   "metadata": {
    "collapsed": false
   },
   "outputs": [],
   "source": [
    "motoresdia4['pot_m2']=motoresdia4.busCurrent_m2*motoresdia4.busVoltage_m2"
   ]
  },
  {
   "cell_type": "code",
   "execution_count": 16,
   "metadata": {
    "collapsed": false
   },
   "outputs": [],
   "source": [
    "motoresdia4['pot_m1']=motoresdia4.busCurrent_m1*motoresdia4.busVoltage_m1"
   ]
  },
  {
   "cell_type": "code",
   "execution_count": 17,
   "metadata": {
    "collapsed": true
   },
   "outputs": [],
   "source": [
    "motoresdia3['pot_m2']=motoresdia3.busCurrent_m2*motoresdia3.busVoltage_m2\n",
    "motoresdia3['pot_m1']=motoresdia3.busCurrent_m1*motoresdia3.busVoltage_m1"
   ]
  },
  {
   "cell_type": "code",
   "execution_count": 18,
   "metadata": {
    "collapsed": true
   },
   "outputs": [],
   "source": [
    "motoresdia2['pot_m2']=motoresdia2.busCurrent_m2*motoresdia2.busVoltage_m2\n",
    "motoresdia2['pot_m1']=motoresdia2.busCurrent_m1*motoresdia2.busVoltage_m1"
   ]
  },
  {
   "cell_type": "code",
   "execution_count": 19,
   "metadata": {
    "collapsed": true
   },
   "outputs": [],
   "source": [
    "motoresdia1['pot_m2']=motoresdia1.busCurrent_m2*motoresdia1.busVoltage_m2\n",
    "motoresdia1['pot_m1']=motoresdia1.busCurrent_m1*motoresdia1.busVoltage_m1"
   ]
  },
  {
   "cell_type": "markdown",
   "metadata": {},
   "source": [
    "Se calcula la potencia promedio de todos los datos positivos que se obtienen de cada motor"
   ]
  },
  {
   "cell_type": "code",
   "execution_count": 20,
   "metadata": {
    "collapsed": false
   },
   "outputs": [
    {
     "data": {
      "text/plain": [
       "1343.2712991041869"
      ]
     },
     "execution_count": 20,
     "metadata": {},
     "output_type": "execute_result"
    }
   ],
   "source": [
    "promediodia4_pot_m1_todos_positivos=motoresdia4[motoresdia4.pot_m1>0].pot_m1.dropna().mean()\n",
    "promediodia4_pot_m1_todos_positivos"
   ]
  },
  {
   "cell_type": "code",
   "execution_count": 21,
   "metadata": {
    "collapsed": false
   },
   "outputs": [
    {
     "data": {
      "text/plain": [
       "1340.9836630260627"
      ]
     },
     "execution_count": 21,
     "metadata": {},
     "output_type": "execute_result"
    }
   ],
   "source": [
    "promediodia4_pot_m1_algunos_positivos = motoresdia4[motoresdia4.pot_m1>0].dropna().pot_m1.mean()\n",
    "promediodia4_pot_m1_algunos_positivos"
   ]
  },
  {
   "cell_type": "markdown",
   "metadata": {},
   "source": [
    "Se observa que la variación de potencia promedio tomando los datos solo entre aquellos en donde existe información de ambos motores no es significativa respecto a la potencia promedio tomando el total de datos de cada motor por separado, sin usar la muestra que coincida en espacio temporal"
   ]
  },
  {
   "cell_type": "code",
   "execution_count": 22,
   "metadata": {
    "collapsed": false
   },
   "outputs": [
    {
     "data": {
      "text/plain": [
       "1130.389884273317"
      ]
     },
     "execution_count": 22,
     "metadata": {},
     "output_type": "execute_result"
    }
   ],
   "source": [
    "promediodia4_pot_m2_todos_positivos = motoresdia4[motoresdia4.pot_m2>0].pot_m2.dropna().mean()\n",
    "promediodia4_pot_m2_todos_positivos"
   ]
  },
  {
   "cell_type": "code",
   "execution_count": 23,
   "metadata": {
    "collapsed": false
   },
   "outputs": [
    {
     "data": {
      "text/plain": [
       "1129.9650190058408"
      ]
     },
     "execution_count": 23,
     "metadata": {},
     "output_type": "execute_result"
    }
   ],
   "source": [
    "promediodia4_pot_m2_algunos_positivos = motoresdia4[motoresdia4.pot_m2>0].dropna().pot_m2.mean()\n",
    "promediodia4_pot_m2_algunos_positivos"
   ]
  },
  {
   "cell_type": "markdown",
   "metadata": {},
   "source": [
    "Se verifica con el segundo motor, que es el que tiene menos potencia y menos datos, en el día 2 es un 80% y el primero casi el 100%, en los otros días puede variar la apreciación"
   ]
  },
  {
   "cell_type": "markdown",
   "metadata": {},
   "source": [
    "Potencia promedio consumida con 360 Kg último día ambos motores solo acelerendo, pot > 0"
   ]
  },
  {
   "cell_type": "code",
   "execution_count": 24,
   "metadata": {
    "collapsed": false
   },
   "outputs": [
    {
     "data": {
      "text/plain": [
       "2470.9486820319034"
      ]
     },
     "execution_count": 24,
     "metadata": {},
     "output_type": "execute_result"
    }
   ],
   "source": [
    "pot_prom_ambos_dia4 = promediodia4_pot_m1_algunos_positivos+promediodia4_pot_m2_algunos_positivos\n",
    "pot_prom_ambos_dia4"
   ]
  },
  {
   "cell_type": "markdown",
   "metadata": {},
   "source": [
    "Potencia promedio entregada por regeneración"
   ]
  },
  {
   "cell_type": "code",
   "execution_count": 25,
   "metadata": {
    "collapsed": false
   },
   "outputs": [
    {
     "data": {
      "text/plain": [
       "-749.66945667315588"
      ]
     },
     "execution_count": 25,
     "metadata": {},
     "output_type": "execute_result"
    }
   ],
   "source": [
    "promediodia4_pot_m1_algunos_negativos = motoresdia4[motoresdia4.pot_m1<0].dropna().pot_m1.mean()\n",
    "promediodia4_pot_m1_algunos_negativos "
   ]
  },
  {
   "cell_type": "code",
   "execution_count": 26,
   "metadata": {
    "collapsed": false
   },
   "outputs": [
    {
     "data": {
      "text/plain": [
       "-686.84717211990721"
      ]
     },
     "execution_count": 26,
     "metadata": {},
     "output_type": "execute_result"
    }
   ],
   "source": [
    "promediodia4_pot_m2_algunos_negativos = motoresdia4[motoresdia4.pot_m2<0].dropna().pot_m2.mean()\n",
    "promediodia4_pot_m2_algunos_negativos "
   ]
  },
  {
   "cell_type": "code",
   "execution_count": 27,
   "metadata": {
    "collapsed": false
   },
   "outputs": [
    {
     "data": {
      "text/plain": [
       "-1436.5166287930631"
      ]
     },
     "execution_count": 27,
     "metadata": {},
     "output_type": "execute_result"
    }
   ],
   "source": [
    "pot_prom_reg_ambos_dia4 = promediodia4_pot_m1_algunos_negativos+promediodia4_pot_m2_algunos_negativos\n",
    "pot_prom_reg_ambos_dia4"
   ]
  },
  {
   "cell_type": "code",
   "execution_count": 28,
   "metadata": {
    "collapsed": false
   },
   "outputs": [
    {
     "data": {
      "text/plain": [
       "0.58136238896381731"
      ]
     },
     "execution_count": 28,
     "metadata": {},
     "output_type": "execute_result"
    }
   ],
   "source": [
    "abs(pot_prom_reg_ambos_dia4/pot_prom_ambos_dia4)"
   ]
  },
  {
   "cell_type": "markdown",
   "metadata": {},
   "source": [
    "Potencia promedio dia 4 consumida y regenerada a la vez"
   ]
  },
  {
   "cell_type": "code",
   "execution_count": 29,
   "metadata": {
    "collapsed": false
   },
   "outputs": [
    {
     "data": {
      "text/plain": [
       "1109.9504543656908"
      ]
     },
     "execution_count": 29,
     "metadata": {},
     "output_type": "execute_result"
    }
   ],
   "source": [
    "promediodia4_pot_m1_algunos_ambos = motoresdia4[motoresdia4.pot_m1!=0].dropna().pot_m1.mean()\n",
    "promediodia4_pot_m1_algunos_ambos "
   ]
  },
  {
   "cell_type": "code",
   "execution_count": 30,
   "metadata": {
    "collapsed": false
   },
   "outputs": [
    {
     "data": {
      "text/plain": [
       "904.29168993214194"
      ]
     },
     "execution_count": 30,
     "metadata": {},
     "output_type": "execute_result"
    }
   ],
   "source": [
    "promediodia4_pot_m2_algunos_ambos = motoresdia4[motoresdia4.pot_m2!=0].dropna().pot_m2.mean()\n",
    "promediodia4_pot_m2_algunos_ambos "
   ]
  },
  {
   "cell_type": "code",
   "execution_count": 31,
   "metadata": {
    "collapsed": false
   },
   "outputs": [
    {
     "data": {
      "text/plain": [
       "2014.2421442978327"
      ]
     },
     "execution_count": 31,
     "metadata": {},
     "output_type": "execute_result"
    }
   ],
   "source": [
    "pot_prom_cons_y_reg = promediodia4_pot_m1_algunos_ambos+promediodia4_pot_m2_algunos_ambos\n",
    "pot_prom_cons_y_reg"
   ]
  },
  {
   "cell_type": "markdown",
   "metadata": {},
   "source": [
    "Impacto uso de regenerativo ultimo dia de carrera"
   ]
  },
  {
   "cell_type": "code",
   "execution_count": 33,
   "metadata": {
    "collapsed": false
   },
   "outputs": [
    {
     "data": {
      "text/plain": [
       "0.18483044227309209"
      ]
     },
     "execution_count": 33,
     "metadata": {},
     "output_type": "execute_result"
    }
   ],
   "source": [
    "1 - pot_prom_cons_y_reg/(pot_prom_ambos_dia4)"
   ]
  },
  {
   "cell_type": "code",
   "execution_count": 37,
   "metadata": {
    "collapsed": false
   },
   "outputs": [
    {
     "data": {
      "text/plain": [
       "<matplotlib.axes._subplots.AxesSubplot at 0x7ead110>"
      ]
     },
     "execution_count": 37,
     "metadata": {},
     "output_type": "execute_result"
    },
    {
     "data": {
      "image/png": "[encoded data removed]",
      "text/plain": [
       "<matplotlib.figure.Figure at 0x8550490>"
      ]
     },
     "metadata": {},
     "output_type": "display_data"
    }
   ],
   "source": [
    "motoresdia4.pot_m2[10000:30000].plot()"
   ]
  },
  {
   "cell_type": "markdown",
   "metadata": {},
   "source": [
    "~~Promedio día 4 incluyendo recargo de celdas.. solo en intervalo donde existen datos de ambos motores~~"
   ]
  },
  {
   "cell_type": "code",
   "execution_count": 33,
   "metadata": {
    "collapsed": false
   },
   "outputs": [
    {
     "data": {
      "text/plain": [
       "813.6939774760142"
      ]
     },
     "execution_count": 33,
     "metadata": {},
     "output_type": "execute_result"
    }
   ],
   "source": [
    "promediodia4_pot_m1_algunos_todo = motoresdia4.dropna().pot_m1.mean()\n",
    "promediodia4_pot_m1_algunos_todo "
   ]
  },
  {
   "cell_type": "code",
   "execution_count": 34,
   "metadata": {
    "collapsed": false
   },
   "outputs": [
    {
     "data": {
      "text/plain": [
       "662.89368226963484"
      ]
     },
     "execution_count": 34,
     "metadata": {},
     "output_type": "execute_result"
    }
   ],
   "source": [
    "promediodia4_pot_m2_algunos_todo = motoresdia4.dropna().pot_m2.mean()\n",
    "promediodia4_pot_m2_algunos_todo "
   ]
  },
  {
   "cell_type": "code",
   "execution_count": 35,
   "metadata": {
    "collapsed": false
   },
   "outputs": [
    {
     "data": {
      "text/plain": [
       "1476.587659745649"
      ]
     },
     "execution_count": 35,
     "metadata": {},
     "output_type": "execute_result"
    }
   ],
   "source": [
    "promediototalconsumo = promediodia4_pot_m2_algunos_todo+promediodia4_pot_m1_algunos_todo\n",
    "promediototalconsumo"
   ]
  },
  {
   "cell_type": "markdown",
   "metadata": {},
   "source": [
    "Impacto carga de celdas"
   ]
  },
  {
   "cell_type": "code",
   "execution_count": 36,
   "metadata": {
    "collapsed": false
   },
   "outputs": [
    {
     "data": {
      "text/plain": [
       "0.26692643983954112"
      ]
     },
     "execution_count": 36,
     "metadata": {},
     "output_type": "execute_result"
    }
   ],
   "source": [
    "1-promediototalconsumo/pot_prom_cons_y_reg"
   ]
  },
  {
   "cell_type": "markdown",
   "metadata": {},
   "source": [
    "Validación en un intervalo de competencia solamente, no luego de llegar y recargar.. solo en carrera"
   ]
  },
  {
   "cell_type": "code",
   "execution_count": 37,
   "metadata": {
    "collapsed": false
   },
   "outputs": [
    {
     "data": {
      "text/plain": [
       "975.6521323211665"
      ]
     },
     "execution_count": 37,
     "metadata": {},
     "output_type": "execute_result"
    }
   ],
   "source": [
    "promediodia4_pot_m1_algunos_todo_val = motoresdia4.dropna().pot_m1[0:110000].mean()\n",
    "promediodia4_pot_m1_algunos_todo_val "
   ]
  },
  {
   "cell_type": "code",
   "execution_count": 38,
   "metadata": {
    "collapsed": false
   },
   "outputs": [
    {
     "data": {
      "text/plain": [
       "794.53780352317597"
      ]
     },
     "execution_count": 38,
     "metadata": {},
     "output_type": "execute_result"
    }
   ],
   "source": [
    "promediodia4_pot_m2_algunos_todo_val = motoresdia4.dropna().pot_m2[0:110000].mean()\n",
    "promediodia4_pot_m2_algunos_todo_val"
   ]
  },
  {
   "cell_type": "code",
   "execution_count": 39,
   "metadata": {
    "collapsed": false
   },
   "outputs": [
    {
     "data": {
      "text/plain": [
       "1770.1899358443425"
      ]
     },
     "execution_count": 39,
     "metadata": {},
     "output_type": "execute_result"
    }
   ],
   "source": [
    "promediototalconsumo_val = promediodia4_pot_m2_algunos_todo_val+promediodia4_pot_m1_algunos_todo_val\n",
    "promediototalconsumo_val"
   ]
  },
  {
   "cell_type": "code",
   "execution_count": null,
   "metadata": {
    "collapsed": false
   },
   "outputs": [
    {
     "data": {
      "text/plain": [
       "0.12116329168485707"
      ]
     },
     "execution_count": 40,
     "metadata": {},
     "output_type": "execute_result"
    }
   ],
   "source": [
    "1-promediototalconsumo_val/pot_prom_cons_y_reg"
   ]
  },
  {
   "cell_type": "code",
   "execution_count": null,
   "metadata": {
    "collapsed": false
   },
   "outputs": [],
   "source": [
    "jdj"
   ]
  },
  {
   "cell_type": "code",
   "execution_count": null,
   "metadata": {
    "collapsed": true
   },
   "outputs": [],
   "source": [
    "1+1"
   ]
  },
  {
   "cell_type": "markdown",
   "metadata": {},
   "source": [
    "#### Máximo absoluto día 4"
   ]
  },
  {
   "cell_type": "code",
   "execution_count": null,
   "metadata": {
    "collapsed": true
   },
   "outputs": [],
   "source": [
    "maximo_m1"
   ]
  },
  {
   "cell_type": "code",
   "execution_count": null,
   "metadata": {
    "collapsed": false
   },
   "outputs": [],
   "source": [
    "len(motoresdia4[motoresdia4.pot_m1<0].pot_m1.dropna())"
   ]
  },
  {
   "cell_type": "code",
   "execution_count": null,
   "metadata": {
    "collapsed": true
   },
   "outputs": [],
   "source": [
    "promedio_pot_m1_algunos=motoresdia4[motoresdia4.pot_m1<0].dropna().pot_m1.mean()"
   ]
  },
  {
   "cell_type": "code",
   "execution_count": null,
   "metadata": {
    "collapsed": false
   },
   "outputs": [],
   "source": [
    "len(motoresdia4[motoresdia4.pot_m1<0].dropna().pot_m1)"
   ]
  },
  {
   "cell_type": "code",
   "execution_count": null,
   "metadata": {
    "collapsed": false
   },
   "outputs": [],
   "source": [
    "motoresdia4[motoresdia4.pot_m1<0].dropna().pot_m1.mean()"
   ]
  },
  {
   "cell_type": "code",
   "execution_count": null,
   "metadata": {
    "collapsed": false
   },
   "outputs": [],
   "source": [
    "motoresdia4[motoresdia4.pot_m2<0].dropna().pot_m2.mean()"
   ]
  },
  {
   "cell_type": "code",
   "execution_count": null,
   "metadata": {
    "collapsed": false
   },
   "outputs": [],
   "source": [
    "motoresdia4[motoresdia4.pot_m2!=0].pot_m2.dropna().mean()"
   ]
  },
  {
   "cell_type": "code",
   "execution_count": null,
   "metadata": {
    "collapsed": false
   },
   "outputs": [],
   "source": [
    "1343+1130"
   ]
  },
  {
   "cell_type": "code",
   "execution_count": null,
   "metadata": {
    "collapsed": true
   },
   "outputs": [],
   "source": [
    "motoresdia3['pot_m2']=motoresdia3.busCurrent_m2*motoresdia3.busVoltage_m2"
   ]
  },
  {
   "cell_type": "code",
   "execution_count": null,
   "metadata": {
    "collapsed": true
   },
   "outputs": [],
   "source": [
    "motoresdia3['pot_m1']=motoresdia3.busCurrent_m1*motoresdia3.busVoltage_m1"
   ]
  },
  {
   "cell_type": "code",
   "execution_count": null,
   "metadata": {
    "collapsed": false
   },
   "outputs": [],
   "source": [
    "motoresdia3[motoresdia3.pot_m1<0].pot_m1.dropna().mean()"
   ]
  },
  {
   "cell_type": "code",
   "execution_count": null,
   "metadata": {
    "collapsed": false
   },
   "outputs": [],
   "source": [
    "motoresdia3[motoresdia3.pot_m2<0].pot_m2.dropna().mean()"
   ]
  },
  {
   "cell_type": "code",
   "execution_count": null,
   "metadata": {
    "collapsed": true
   },
   "outputs": [],
   "source": [
    "motoresdia2['pot_m2']=motoresdia2.busCurrent_m2*motoresdia2.busVoltage_m2"
   ]
  },
  {
   "cell_type": "code",
   "execution_count": null,
   "metadata": {
    "collapsed": true
   },
   "outputs": [],
   "source": [
    "motoresdia2['pot_m1']=motoresdia2.busCurrent_m1*motoresdia2.busVoltage_m1"
   ]
  },
  {
   "cell_type": "code",
   "execution_count": null,
   "metadata": {
    "collapsed": false
   },
   "outputs": [],
   "source": [
    "motoresdia2[motoresdia2.pot_m1<0].pot_m1.dropna().mean()"
   ]
  },
  {
   "cell_type": "code",
   "execution_count": null,
   "metadata": {
    "collapsed": false
   },
   "outputs": [],
   "source": [
    "motoresdia2[motoresdia2.pot_m2<0].pot_m2.dropna().mean()"
   ]
  },
  {
   "cell_type": "code",
   "execution_count": null,
   "metadata": {
    "collapsed": true
   },
   "outputs": [],
   "source": [
    "motoresdia1['pot_m2']=motoresdia1.busCurrent_m2*motoresdia1.busVoltage_m2"
   ]
  },
  {
   "cell_type": "code",
   "execution_count": null,
   "metadata": {
    "collapsed": true
   },
   "outputs": [],
   "source": [
    "motoresdia1['pot_m1']=motoresdia1.busCurrent_m1*motoresdia1.busVoltage_m1"
   ]
  },
  {
   "cell_type": "code",
   "execution_count": null,
   "metadata": {
    "collapsed": false
   },
   "outputs": [],
   "source": [
    "motoresdia1[motoresdia1.pot_m1!=0].pot_m1.dropna().mean()"
   ]
  },
  {
   "cell_type": "code",
   "execution_count": null,
   "metadata": {
    "collapsed": false
   },
   "outputs": [],
   "source": [
    "motoresdia1[motoresdia1.pot_m2!=0].pot_m2.dropna().mean()"
   ]
  },
  {
   "cell_type": "code",
   "execution_count": null,
   "metadata": {
    "collapsed": true
   },
   "outputs": [],
   "source": []
  }
 ],
 "metadata": {
  "kernelspec": {
   "display_name": "Python 2",
   "language": "python",
   "name": "python2"
  },
  "language_info": {
   "codemirror_mode": {
    "name": "ipython",
    "version": 2
   },
   "file_extension": ".py",
   "mimetype": "text/x-python",
   "name": "python",
   "nbconvert_exporter": "python",
   "pygments_lexer": "ipython2",
   "version": "2.7.8"
  }
 },
 "nbformat": 4,
 "nbformat_minor": 0
}
