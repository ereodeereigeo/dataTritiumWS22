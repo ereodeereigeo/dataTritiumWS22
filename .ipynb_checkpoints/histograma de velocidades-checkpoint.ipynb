{
 "cells": [
  {
   "cell_type": "markdown",
   "metadata": {},
   "source": [
    "#Número de datos obtenidos y perdidos"
   ]
  },
  {
   "cell_type": "markdown",
   "metadata": {},
   "source": [
    "* Importamos las librerías necesarias"
   ]
  },
  {
   "cell_type": "code",
   "execution_count": 1,
   "metadata": {
    "collapsed": true
   },
   "outputs": [],
   "source": [
    "import pandas as pd\n",
    "import matplotlib.pyplot as plt"
   ]
  },
  {
   "cell_type": "code",
   "execution_count": 2,
   "metadata": {
    "collapsed": true
   },
   "outputs": [],
   "source": [
    "%matplotlib inline"
   ]
  },
  {
   "cell_type": "markdown",
   "metadata": {},
   "source": [
    "* Importamos las librerías creadas para trabajar"
   ]
  },
  {
   "cell_type": "code",
   "execution_count": 3,
   "metadata": {
    "collapsed": true
   },
   "outputs": [],
   "source": [
    "import ext_datos as ext\n",
    "import procesar as pro\n",
    "import time_plot as tplt"
   ]
  },
  {
   "cell_type": "markdown",
   "metadata": {},
   "source": [
    "* Generamos los datasets de todos los días"
   ]
  },
  {
   "cell_type": "markdown",
   "metadata": {},
   "source": [
    "* Notas:\n",
    "\n",
    "    - Se leeran los archivos guardados en una carpeta por dia\n",
    "    \n",
    "    - El problema de la configuración actual de la telemetría del\n",
    "        auto solar es que usa software hecho para registrar datos de\n",
    "        un motor a la vez, lo que nos obliga a usar dos instancias\n",
    "        cada una de las cuales escribe un archivo de datos diferente,\n",
    "        sin embargo el protocolo tcp/ip si pierde momentáneamente\n",
    "        la conexión intenta reconectar automáticamente y los programas\n",
    "        se reconectan al primer motor que detectan.\n",
    "    \n",
    "    - Esto genera archivos mezclados, datos duplicados y pérdidas de\n",
    "        datos\n",
    "    \n",
    "    - Cree un script que automatiza separar los motores, fusiona\n",
    "        los datos duplicados y junta en una sola tabla ambos motores."
   ]
  },
  {
   "cell_type": "markdown",
   "metadata": {},
   "source": [
    "* En primer lugar se extraen los datos de todos los archivos\n",
    "    de cada día y se genera una lista de tablas separadas por motor"
   ]
  },
  {
   "cell_type": "code",
   "execution_count": 4,
   "metadata": {
    "collapsed": false
   },
   "outputs": [],
   "source": [
    "dia1 = ext.extraer_data('dia1')"
   ]
  },
  {
   "cell_type": "code",
   "execution_count": 5,
   "metadata": {
    "collapsed": false
   },
   "outputs": [
    {
     "name": "stdout",
     "output_type": "stream",
     "text": [
      "/home/rodrigo/dataTritiumWS22\n"
     ]
    }
   ],
   "source": [
    "cd .."
   ]
  },
  {
   "cell_type": "code",
   "execution_count": 6,
   "metadata": {
    "collapsed": true
   },
   "outputs": [],
   "source": [
    "dia2 = ext.extraer_data('dia2')"
   ]
  },
  {
   "cell_type": "code",
   "execution_count": 7,
   "metadata": {
    "collapsed": false
   },
   "outputs": [
    {
     "name": "stdout",
     "output_type": "stream",
     "text": [
      "/home/rodrigo/dataTritiumWS22\n"
     ]
    }
   ],
   "source": [
    "cd .."
   ]
  },
  {
   "cell_type": "code",
   "execution_count": 8,
   "metadata": {
    "collapsed": true
   },
   "outputs": [],
   "source": [
    "dia3 = ext.extraer_data('dia3')"
   ]
  },
  {
   "cell_type": "code",
   "execution_count": 9,
   "metadata": {
    "collapsed": false
   },
   "outputs": [
    {
     "name": "stdout",
     "output_type": "stream",
     "text": [
      "/home/rodrigo/dataTritiumWS22\n"
     ]
    }
   ],
   "source": [
    "cd .."
   ]
  },
  {
   "cell_type": "code",
   "execution_count": 10,
   "metadata": {
    "collapsed": true
   },
   "outputs": [],
   "source": [
    "dia4 = ext.extraer_data('dia4')"
   ]
  },
  {
   "cell_type": "markdown",
   "metadata": {},
   "source": [
    "* Se procesan las listas anteriores, se concatenan por motor según\n",
    "    la hora de los registros y se rellenan los espacios vacíos con\n",
    "    datos NaN, luego se juntan de costado las tablas (join) y se\n",
    "    le añade el sufijo _m1 y _m2 para diferenciar las columnas"
   ]
  },
  {
   "cell_type": "code",
   "execution_count": 11,
   "metadata": {
    "collapsed": true
   },
   "outputs": [],
   "source": [
    "motoresdia1 = pro.procesar(dia1)"
   ]
  },
  {
   "cell_type": "code",
   "execution_count": 12,
   "metadata": {
    "collapsed": true
   },
   "outputs": [],
   "source": [
    "motoresdia2 = pro.procesar(dia2)"
   ]
  },
  {
   "cell_type": "code",
   "execution_count": 13,
   "metadata": {
    "collapsed": true
   },
   "outputs": [],
   "source": [
    "motoresdia3 = pro.procesar(dia3)"
   ]
  },
  {
   "cell_type": "code",
   "execution_count": 14,
   "metadata": {
    "collapsed": true
   },
   "outputs": [],
   "source": [
    "motoresdia4 = pro.procesar(dia4)"
   ]
  },
  {
   "cell_type": "markdown",
   "metadata": {},
   "source": [
    "* Medimos el número de filas de los archivos (con y sin valores perdidos)"
   ]
  },
  {
   "cell_type": "code",
   "execution_count": 15,
   "metadata": {
    "collapsed": false
   },
   "outputs": [],
   "source": [
    "con1 , sin1 = len(motoresdia1), len(motoresdia1.dropna())"
   ]
  },
  {
   "cell_type": "code",
   "execution_count": 16,
   "metadata": {
    "collapsed": false
   },
   "outputs": [],
   "source": [
    "con2 , sin2 = len(motoresdia2), len(motoresdia2.dropna())"
   ]
  },
  {
   "cell_type": "code",
   "execution_count": 17,
   "metadata": {
    "collapsed": false
   },
   "outputs": [],
   "source": [
    "con3 , sin3 = len(motoresdia3), len(motoresdia3.dropna())"
   ]
  },
  {
   "cell_type": "code",
   "execution_count": 18,
   "metadata": {
    "collapsed": false
   },
   "outputs": [],
   "source": [
    "con4 , sin4 = len(motoresdia4), len(motoresdia4.dropna())"
   ]
  },
  {
   "cell_type": "code",
   "execution_count": 19,
   "metadata": {
    "collapsed": true
   },
   "outputs": [],
   "source": [
    "d = {'datos_con_valores_perdidos':[con1,con2,con3,con4],\\\n",
    "     'datos_sin_valores_perdidos':[sin1,sin2,sin3,sin4]}"
   ]
  },
  {
   "cell_type": "code",
   "execution_count": 20,
   "metadata": {
    "collapsed": false
   },
   "outputs": [],
   "source": [
    "tabla1= pd.DataFrame(d,index=[1,2,3,4])"
   ]
  },
  {
   "cell_type": "markdown",
   "metadata": {},
   "source": [
    "* Visualizamos los datos de la tabla\n",
    "    - La primera columna corresponde al día de competencia\n",
    "    - La segunda indica los datos obtenidos con valores perdidos de uno u otro motor\n",
    "    - La tercera corresponde a los datos en donde ambos motores fueron registrados"
   ]
  },
  {
   "cell_type": "code",
   "execution_count": 21,
   "metadata": {
    "collapsed": false
   },
   "outputs": [
    {
     "data": {
      "text/html": [
       "<div style=\"max-height:1000px;max-width:1500px;overflow:auto;\">\n",
       "<table border=\"1\" class=\"dataframe\">\n",
       "  <thead>\n",
       "    <tr style=\"text-align: right;\">\n",
       "      <th></th>\n",
       "      <th>datos_con_valores_perdidos</th>\n",
       "      <th>datos_sin_valores_perdidos</th>\n",
       "    </tr>\n",
       "  </thead>\n",
       "  <tbody>\n",
       "    <tr>\n",
       "      <th>1</th>\n",
       "      <td> 233002</td>\n",
       "      <td>  80851</td>\n",
       "    </tr>\n",
       "    <tr>\n",
       "      <th>2</th>\n",
       "      <td> 208236</td>\n",
       "      <td>  83922</td>\n",
       "    </tr>\n",
       "    <tr>\n",
       "      <th>3</th>\n",
       "      <td> 146330</td>\n",
       "      <td>  33854</td>\n",
       "    </tr>\n",
       "    <tr>\n",
       "      <th>4</th>\n",
       "      <td> 161647</td>\n",
       "      <td> 133622</td>\n",
       "    </tr>\n",
       "  </tbody>\n",
       "</table>\n",
       "</div>"
      ],
      "text/plain": [
       "   datos_con_valores_perdidos  datos_sin_valores_perdidos\n",
       "1                      233002                       80851\n",
       "2                      208236                       83922\n",
       "3                      146330                       33854\n",
       "4                      161647                      133622"
      ]
     },
     "execution_count": 21,
     "metadata": {},
     "output_type": "execute_result"
    }
   ],
   "source": [
    "tabla1"
   ]
  },
  {
   "cell_type": "markdown",
   "metadata": {},
   "source": [
    "* Se calcula los datos perdidos por motor"
   ]
  },
  {
   "cell_type": "code",
   "execution_count": 22,
   "metadata": {
    "collapsed": true
   },
   "outputs": [],
   "source": [
    "m1d1, m2d1 = len(motoresdia1.motorRpm_m1.dropna()),\\\n",
    "             len(motoresdia1.motorRpm_m2.dropna())\n",
    "m1d2, m2d2 = len(motoresdia2.motorRpm_m1.dropna()),\\\n",
    "             len(motoresdia2.motorRpm_m2.dropna())\n",
    "m1d3, m2d3 = len(motoresdia3.motorRpm_m1.dropna()),\\\n",
    "             len(motoresdia3.motorRpm_m2.dropna())\n",
    "m1d4, m2d4 = len(motoresdia4.motorRpm_m1.dropna()),\\\n",
    "             len(motoresdia4.motorRpm_m2.dropna())"
   ]
  },
  {
   "cell_type": "markdown",
   "metadata": {},
   "source": [
    "* Se calcula la relación entre los datos efectivos por motor y \n",
    "    el total que registaba cada archivo"
   ]
  },
  {
   "cell_type": "code",
   "execution_count": 23,
   "metadata": {
    "collapsed": false
   },
   "outputs": [],
   "source": [
    "p1d1, p2d1 = round(m1d1/float(con1),4) , round(m2d1/float(con1),4)"
   ]
  },
  {
   "cell_type": "code",
   "execution_count": 24,
   "metadata": {
    "collapsed": false
   },
   "outputs": [],
   "source": [
    "p1d2, p2d2 = round(m1d2/float(con2),4) , round(m2d2/float(con2),4)"
   ]
  },
  {
   "cell_type": "code",
   "execution_count": 25,
   "metadata": {
    "collapsed": false
   },
   "outputs": [],
   "source": [
    "p1d3 , p2d3 = round(m1d3/float(con3),4) , round(m2d3/float(con3),4)"
   ]
  },
  {
   "cell_type": "code",
   "execution_count": 26,
   "metadata": {
    "collapsed": false
   },
   "outputs": [],
   "source": [
    "p1d4 , p2d4 = round(m1d4/float(con4),4) , round(m2d4/float(con4),4)"
   ]
  },
  {
   "cell_type": "code",
   "execution_count": 27,
   "metadata": {
    "collapsed": true
   },
   "outputs": [],
   "source": [
    "labels = {'motor1':[100*p1d1, 100*p1d2, 100*p1d3, 100*p1d4],'motor2':\\\n",
    "          [100*p2d1, 100*p2d2, 100*p2d3, 100*p2d4]}"
   ]
  },
  {
   "cell_type": "code",
   "execution_count": 28,
   "metadata": {
    "collapsed": false
   },
   "outputs": [],
   "source": [
    "tabla2 = pd.DataFrame(labels, index=[1,2,3,4])"
   ]
  },
  {
   "cell_type": "code",
   "execution_count": 29,
   "metadata": {
    "collapsed": false
   },
   "outputs": [
    {
     "data": {
      "text/html": [
       "<div style=\"max-height:1000px;max-width:1500px;overflow:auto;\">\n",
       "<table border=\"1\" class=\"dataframe\">\n",
       "  <thead>\n",
       "    <tr style=\"text-align: right;\">\n",
       "      <th></th>\n",
       "      <th>motor1</th>\n",
       "      <th>motor2</th>\n",
       "    </tr>\n",
       "  </thead>\n",
       "  <tbody>\n",
       "    <tr>\n",
       "      <th>1</th>\n",
       "      <td> 88.67</td>\n",
       "      <td> 45.88</td>\n",
       "    </tr>\n",
       "    <tr>\n",
       "      <th>2</th>\n",
       "      <td> 99.08</td>\n",
       "      <td> 40.43</td>\n",
       "    </tr>\n",
       "    <tr>\n",
       "      <th>3</th>\n",
       "      <td> 81.64</td>\n",
       "      <td> 23.45</td>\n",
       "    </tr>\n",
       "    <tr>\n",
       "      <th>4</th>\n",
       "      <td> 99.05</td>\n",
       "      <td> 82.72</td>\n",
       "    </tr>\n",
       "  </tbody>\n",
       "</table>\n",
       "</div>"
      ],
      "text/plain": [
       "   motor1  motor2\n",
       "1   88.67   45.88\n",
       "2   99.08   40.43\n",
       "3   81.64   23.45\n",
       "4   99.05   82.72"
      ]
     },
     "execution_count": 29,
     "metadata": {},
     "output_type": "execute_result"
    }
   ],
   "source": [
    "tabla2"
   ]
  },
  {
   "cell_type": "markdown",
   "metadata": {},
   "source": [
    "####Se observa claramente que el sistema de telemetría usado produjo pérdidas de datos debido a que los programas usados no estaban hechos específicamente para registrar ambos motores, este problema se pudo identificar solamente post-carrera analizando los datos.\n",
    "\n",
    "* En la carrera utilizamos otro sistema auxiliar que capturaba datos, utilizando un arduino y un xbee y los veíamos en tiempo real graficados, sin embargo poseía otros problemas debido a la velocidad de transmisión, y el registro del tiempo es difícil de correlacionar, es menos estándar que es utilizado para este análisis.\n",
    "\n",
    "* Existen dos soluciones al problema, registrar los datos dentro del auto, así se obtendrían todos los datos, y para la telemetría, desarrollar un software para pc que identifique la procedencia y asegure que no se mezclen ni pierdan más datos que los normales en las comunicaciones wireless."
   ]
  },
  {
   "cell_type": "markdown",
   "metadata": {},
   "source": [
    "###También se observa que la cantidad de datos actuales permite hacer correlaciones con un porcentaje de error aceptable para rellenar los espacios vacíos\n",
    "\n",
    "* De esta manera se podrían hacer cálculos más realistas que los realizados con los archivos en bruto que se realizaron al principio\n",
    "\n",
    "* Como se observa en la tabla 2, el porcentaje de datos perdidos mayoritariamente pertenecen al motor 2 (que debido a otras observaciones de los datos, sabemos que el conjunto motor+ controlador 2 consume menos energía) por ende los cálculos realizados anteriormente de energía consumida debieran ser bastante menores."
   ]
  }
 ],
 "metadata": {
  "kernelspec": {
   "display_name": "Python 2",
   "language": "python",
   "name": "python2"
  },
  "language_info": {
   "codemirror_mode": {
    "name": "ipython",
    "version": 2
   },
   "file_extension": ".py",
   "mimetype": "text/x-python",
   "name": "python",
   "nbconvert_exporter": "python",
   "pygments_lexer": "ipython2",
   "version": "2.7.6"
  }
 },
 "nbformat": 4,
 "nbformat_minor": 0
}
