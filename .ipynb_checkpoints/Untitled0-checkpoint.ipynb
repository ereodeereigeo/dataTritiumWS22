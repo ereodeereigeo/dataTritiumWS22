{
 "metadata": {
  "name": "",
  "signature": "sha256:7c63b46cbbe9979bbe8c1ac43df57b7fd0ac5937fb54f71705543000891a3337"
 },
 "nbformat": 3,
 "nbformat_minor": 0,
 "worksheets": [
  {
   "cells": [
    {
     "cell_type": "code",
     "collapsed": false,
     "input": [
      "# -*- coding: utf8 -*-\n",
      "import numpy as np\n",
      "import pandas as pd\n",
      "import matplotlib.pyplot as plt\n",
      "\n",
      "#Se crea una lista de encabezados que servir\u00e1 para extraer las col\n",
      "listaEnc = ['time', 'errors', 'limiters', 'currentSP', \\\n",
      "'velocitySP', 'idcSP', 'miscSP', 'busVoltage','busCurrent',\\\n",
      "'velocityMs', 'motorRpm', 'pcCurrent', 'pbCurrent', 'odometer',\\\n",
      "'busCharge', 'bemf','voutD', 'voutQ', 'ioutD', 'ioutQ', '15v',\\\n",
      "'1.9v', '3.3v', 'motorTemp', 'dspTemp', 'phaseaTemp', 'phasebTemp',\\\n",
      "'phasecTemp', 'cantranserr', 'canrecerr', 'slipSpeed']\n",
      "\n",
      "#definimos label como opci\u00f3n oculta para acotar los datos extraidos\n",
      "def extraerData(archivo, label=listaEnc, time=0.2, values=True):\n",
      "\n",
      "    #se lee el archivo csv\n",
      "    datos = pd.read_csv(archivo, names=label, header=0)\n",
      "\n",
      "    #Se genera una lista vac\u00eda de vectores\n",
      "    listVect = []\n",
      "\n",
      "    #creaci\u00f3n de vector de tiempo\n",
      "    tiempo = datos.index * time\n",
      "    #time es el tiempo de muestreo en segundos\n",
      "\n",
      "    #iteraci\u00f3n\n",
      "    for name in label:\n",
      "        listVect.append(datos[name].values)\n",
      "\n",
      "    #se crea un diccionario para acceder a los vectores\n",
      "    dicVect = dict(zip(label,listVect))\n",
      "    if values:\n",
      "        return dicVect\n",
      "    else:\n",
      "        return tiempo\n",
      "\n",
      "def extraerValor(nombre,archivo):\n",
      "    dicc=extraerData(archivo)\n",
      "    return dicc[nombre]\n",
      "\n",
      "def extraerTiempo():\n",
      "    tiempo = extraerData(archivo, values=False)\n",
      "    return tiempo\n",
      "\n",
      "#tiempo = extraerTiempo()\n",
      "#busVoltage = extraerValor('busVoltage')\n",
      "#plt.plot(tiempo,busVoltage)\n",
      "#busCurrent = extraerValor('busCurrent')\n",
      "#plt.plot(tiempo,busCurrent)\n",
      "#plt.show()"
     ],
     "language": "python",
     "metadata": {},
     "outputs": [],
     "prompt_number": 27
    },
    {
     "cell_type": "code",
     "collapsed": false,
     "input": [],
     "language": "python",
     "metadata": {},
     "outputs": [],
     "prompt_number": 14
    },
    {
     "cell_type": "code",
     "collapsed": false,
     "input": [
      "archivosMotor1 = ['WSlog_2014-11-14_08-53-42.csv','WSlog_2014-11-14_10-08-29.csv','WSlog_2014-11-14_10-35-41.csv','WSlog_2014-11-14_11-33-15.csv','WSlog_2014-11-14_11-41-36.csv','WSlog_2014-11-14_12-25-49.csv','WSlog_2014-11-14_12-45-16.csv','WSlog_2014-11-14_14-26-05.csv','WSlog_2014-11-14_15-20-45.csv','WSlog_2014-11-14_15-55-49.csv']\n",
      "archivosMotor2 = ['WSlog_2014-11-14_08-53-36.csv','WSlog_2014-11-14_10-08-33.csv','WSlog_2014-11-14_10-35-44.csv','WSlog_2014-11-14_11-33-12.csv','WSlog_2014-11-14_11-41-25.csv','WSlog_2014-11-14_12-25-52.csv','WSlog_2014-11-14_12-45-20.csv','WSlog_2014-11-14_14-26-02.csv','WSlog_2014-11-14_15-20-49.csv','WSlog_2014-11-14_15-55-45.csv']"
     ],
     "language": "python",
     "metadata": {},
     "outputs": [],
     "prompt_number": 7
    },
    {
     "cell_type": "code",
     "collapsed": false,
     "input": [
      "for i in xrange(0,len(archivosMotor1)):\n",
      "    motor = archivosMotor1[i]\n",
      "    mot = extraerValor('busVoltage',motor)\n",
      "    print mot\n",
      "    exec(\"busVoltage%d = %s\"%(i+1,mot));"
     ],
     "language": "python",
     "metadata": {},
     "outputs": [
      {
       "output_type": "stream",
       "stream": "stdout",
       "text": [
        "[ 151.48317   151.491074  151.486389 ...,  146.594131  146.638     146.660294]\n"
       ]
      },
      {
       "ename": "SyntaxError",
       "evalue": "invalid syntax (<string>, line 1)",
       "output_type": "pyerr",
       "traceback": [
        "\u001b[1;36m  File \u001b[1;32m\"<string>\"\u001b[1;36m, line \u001b[1;32m1\u001b[0m\n\u001b[1;33m    busVoltage1 = [ 151.48317   151.491074  151.486389 ...,  146.594131  146.638     146.660294]\u001b[0m\n\u001b[1;37m                                         ^\u001b[0m\n\u001b[1;31mSyntaxError\u001b[0m\u001b[1;31m:\u001b[0m invalid syntax\n"
       ]
      }
     ],
     "prompt_number": 58
    },
    {
     "cell_type": "code",
     "collapsed": false,
     "input": [
      "prices = [100,200,300,400]\n",
      "for i in xrange(0, len(prices)):\n",
      "    exec(\"price%d = %s\" % (i + 1, repr(prices[i])))"
     ],
     "language": "python",
     "metadata": {},
     "outputs": [],
     "prompt_number": 57
    },
    {
     "cell_type": "code",
     "collapsed": false,
     "input": [
      "busVoltage10"
     ],
     "language": "python",
     "metadata": {},
     "outputs": [
      {
       "ename": "NameError",
       "evalue": "name 'busVoltage10' is not defined",
       "output_type": "pyerr",
       "traceback": [
        "\u001b[1;31m---------------------------------------------------------------------------\u001b[0m\n\u001b[1;31mNameError\u001b[0m                                 Traceback (most recent call last)",
        "\u001b[1;32m<ipython-input-51-ab880d226d1e>\u001b[0m in \u001b[0;36m<module>\u001b[1;34m()\u001b[0m\n\u001b[1;32m----> 1\u001b[1;33m \u001b[0mbusVoltage10\u001b[0m\u001b[1;33m\u001b[0m\u001b[0m\n\u001b[0m",
        "\u001b[1;31mNameError\u001b[0m: name 'busVoltage10' is not defined"
       ]
      }
     ],
     "prompt_number": 51
    },
    {
     "cell_type": "code",
     "collapsed": false,
     "input": [],
     "language": "python",
     "metadata": {},
     "outputs": []
    }
   ],
   "metadata": {}
  }
 ]
}