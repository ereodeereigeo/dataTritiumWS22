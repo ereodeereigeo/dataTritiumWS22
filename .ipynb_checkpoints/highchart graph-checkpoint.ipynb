{
 "metadata": {
  "name": "",
  "signature": "sha256:23fcad14afa0ca28a9e090bb4f3526b5509bb4bdeab0a9cb4791c8cba991013f"
 },
 "nbformat": 3,
 "nbformat_minor": 0,
 "worksheets": [
  {
   "cells": [
    {
     "cell_type": "code",
     "collapsed": false,
     "input": [
      "import pandas as pd\n",
      "import jinja2\n",
      "\n",
      "from collections import OrderedDict\n",
      "from json import dumps\n",
      "from IPython.html.widgets import interact\n",
      "from IPython.html import widgets\n",
      "from IPython.display import display, display_pretty, Javascript, HTML\n",
      "from IPython.utils.traitlets import Any, Bool, Dict, List, Unicode\n",
      "from threading import Lock\n",
      "from urllib2 import urlopen"
     ],
     "language": "python",
     "metadata": {},
     "outputs": [],
     "prompt_number": 1
    },
    {
     "cell_type": "heading",
     "level": 1,
     "metadata": {},
     "source": [
      "Embedding Interactive Charts on an IPython Notebook"
     ]
    },
    {
     "cell_type": "heading",
     "level": 2,
     "metadata": {},
     "source": [
      "Introduction"
     ]
    },
    {
     "cell_type": "markdown",
     "metadata": {},
     "source": [
      "In this three part post we\u2019ll show you how easy it is to integrate D3.js, Chart.js and HighCharts chart into an notebook and how to make them interactive using HTML widgets."
     ]
    },
    {
     "cell_type": "heading",
     "level": 2,
     "metadata": {},
     "source": [
      "Requirements"
     ]
    },
    {
     "cell_type": "markdown",
     "metadata": {},
     "source": [
      "The only requirement to run the examples is IPython Notebook version 2.0 or greater. All the modules that we reference are either in the standard Python distribution, or are dependencies of IPython."
     ]
    },
    {
     "cell_type": "heading",
     "level": 2,
     "metadata": {},
     "source": [
      "About Pandas"
     ]
    },
    {
     "cell_type": "markdown",
     "metadata": {},
     "source": [
      "Although Pandas is not strictly necessary to accomplish what we do in the examples, it is such a popular data analysis tool that we wanted to use it anyway. We recommend that you read the 10 Minutes to Pandas tutorial to get and idea of what it can do or buy *Python for Data Analysis* for an in depth guide of data analysis using Python, Pandas and NumPy."
     ]
    },
    {
     "cell_type": "heading",
     "level": 2,
     "metadata": {},
     "source": [
      "About the Data"
     ]
    },
    {
     "cell_type": "markdown",
     "metadata": {},
     "source": [
      "All the data that we use in the examples are taken from the [United States Census Bureau](http://www.census.gov) site. We're going to use 2012 population estimates and we're going to plot the sex and age groups by the state, region and division."
     ]
    },
    {
     "cell_type": "heading",
     "level": 3,
     "metadata": {},
     "source": [
      "Population by State"
     ]
    },
    {
     "cell_type": "markdown",
     "metadata": {},
     "source": [
      "We're going to build a Pandas DataFrame from the dataset of [Incorporated Places and Minor Civil Divisions](http://www.census.gov/popest/data/cities/totals/2012/SUB-EST2012.html). We could have just grabbed the [estimates for the states](http://www.census.gov/popest/data/state/totals/2012/index.html), but also wanted to show you how easy it is to work with data using Pandas. First, we fetch the data using [urlopen](https://docs.python.org/2/library/urllib2.html#urllib2.urlopen) and we parse the response as CSV using Pandas' [read_csv](http://pandas.pydata.org/pandas-docs/version/0.13.1/generated/pandas.io.parsers.read_csv.html) function:"
     ]
    },
    {
     "cell_type": "code",
     "collapsed": false,
     "input": [
      "sub_est_2012_df = pd.read_csv(\n",
      "    urlopen('http://www.census.gov/popest/data/cities/totals/2012/files/SUB-EST2012.csv'),\n",
      "    encoding='latin-1',\n",
      "    dtype={'STATE': 'str', 'COUNTY': 'str', 'PLACE': 'str'}\n",
      ")"
     ],
     "language": "python",
     "metadata": {},
     "outputs": [],
     "prompt_number": 2
    },
    {
     "cell_type": "markdown",
     "metadata": {},
     "source": [
      "The resulting data frame has a lot of information that we don\u2019t need and can be discarded. According to the [file layout description](http://www.census.gov/popest/data/cities/totals/2012/files/SUB-EST2012.pdf), the data is summarized at the nation, state, county and place levels according to the SUMLEV column. Since we\u2019re only interested in the population for each state we can just filter the rows with SUMLEV \u201840\u2019, but wanted to show you how to use the aggregate feature of Pandas\u2019 DataFrames, so we\u2019ll take the data summarized at the count level (SUMLEV \u201850\u2019), then we\u2019ll group by state, and sum the population estimates."
     ]
    },
    {
     "cell_type": "code",
     "collapsed": false,
     "input": [
      "sub_est_2012_df_by_county = sub_est_2012_df[sub_est_2012_df.SUMLEV == 50]\n",
      "sub_est_2012_df_by_state = sub_est_2012_df_by_county.groupby(['STATE']).sum()\n",
      "\n",
      "# Alternatively we could have just taken the summary rows for the states\n",
      "\n",
      "# sub_est_2012_df_by_state = sub_est_2012_df[sub_est_2012_df.SUMLEV == 40]"
     ],
     "language": "python",
     "metadata": {},
     "outputs": [],
     "prompt_number": 3
    },
    {
     "cell_type": "markdown",
     "metadata": {},
     "source": [
      "If you see the table, the states are referenced using their ANSI codes. We can augment the table to include the state names and abbreviations by merging with [another resource](http://www.census.gov/geo/reference/ansi_statetables.html) from the Geography section of the US Census Bureau site. We use `read_csv` Pandas function making sure that we use the pipe character (|) as separator."
     ]
    },
    {
     "cell_type": "code",
     "collapsed": false,
     "input": [
      "# Taken from http://www.census.gov/geo/reference/ansi_statetables.html\n",
      "\n",
      "state = pd.read_csv(urlopen('http://www.census.gov/geo/reference/docs/state.txt'), sep='|', dtype={'STATE': 'str'})"
     ],
     "language": "python",
     "metadata": {},
     "outputs": [],
     "prompt_number": 4
    },
    {
     "cell_type": "code",
     "collapsed": false,
     "input": [
      "state.drop(\n",
      "    ['STATENS'],\n",
      "    inplace=True, axis=1\n",
      ")"
     ],
     "language": "python",
     "metadata": {},
     "outputs": [],
     "prompt_number": 5
    },
    {
     "cell_type": "code",
     "collapsed": false,
     "input": [
      "sub_est_2012_df_by_state = pd.merge(sub_est_2012_df_by_state, state, left_index=True, right_on='STATE')\n",
      "sub_est_2012_df_by_state.drop(\n",
      "    ['SUMLEV', 'COUSUB', 'CONCIT', 'ESTIMATESBASE2010', 'POPESTIMATE2010', 'POPESTIMATE2011'],\n",
      "    inplace=True, axis=1\n",
      ")"
     ],
     "language": "python",
     "metadata": {},
     "outputs": [],
     "prompt_number": 6
    },
    {
     "cell_type": "markdown",
     "metadata": {},
     "source": [
      "We're also interested in plotting the information about the age and sex of the people, and for that we can use the [Annual Estimates of the Civilian Population by Single Year of Age and Sex](http://www.census.gov/popest/data/state/asrh/2012/SC-EST2012-AGESEX-CIV.html)."
     ]
    },
    {
     "cell_type": "code",
     "collapsed": false,
     "input": [
      "# Taken from http://www.census.gov/popest/data/state/asrh/2012/SC-EST2012-AGESEX-CIV.html\n",
      "\n",
      "sc_est2012_agesex_civ_df = pd.read_csv(\n",
      "    urlopen('http://www.census.gov/popest/data/state/asrh/2012/files/SC-EST2012-AGESEX-CIV.csv'),\n",
      "    encoding='latin-1',\n",
      "    dtype={'SUMLEV': 'str'}\n",
      ")"
     ],
     "language": "python",
     "metadata": {},
     "outputs": [],
     "prompt_number": 7
    },
    {
     "cell_type": "markdown",
     "metadata": {},
     "source": [
      "Once again, the table is summarized at many levels, but we're only interested in the information at the state level, so we filter out the unnecessary rows. We also do a little bit of processing to the STATE column so it can be used to merge with the state DataFrame."
     ]
    },
    {
     "cell_type": "code",
     "collapsed": false,
     "input": [
      "sc_est2012_agesex_civ_df_sumlev040 = sc_est2012_agesex_civ_df[\n",
      "    (sc_est2012_agesex_civ_df.SUMLEV == '040') &\n",
      "    (sc_est2012_agesex_civ_df.SEX != 0) &\n",
      "    (sc_est2012_agesex_civ_df.AGE != 999)\n",
      "]\n",
      "sc_est2012_agesex_civ_df_sumlev040.drop(\n",
      "    ['SUMLEV', 'NAME', 'ESTBASE2010_CIV', 'POPEST2010_CIV', 'POPEST2011_CIV'],\n",
      "    inplace=True, axis=1\n",
      ")\n",
      "sc_est2012_agesex_civ_df_sumlev040['STATE'] = sc_est2012_agesex_civ_df_sumlev040['STATE'].apply(lambda x: '%02d' % (x,))"
     ],
     "language": "python",
     "metadata": {},
     "outputs": [
      {
       "output_type": "stream",
       "stream": "stderr",
       "text": [
        "-c:8: SettingWithCopyWarning: A value is trying to be set on a copy of a slice from a DataFrame\n",
        "-c:10: SettingWithCopyWarning: A value is trying to be set on a copy of a slice from a DataFrame.\n",
        "Try using .loc[row_index,col_indexer] = value instead\n"
       ]
      }
     ],
     "prompt_number": 8
    },
    {
     "cell_type": "markdown",
     "metadata": {},
     "source": [
      "What we need to do is group the rows by state, region, division and sex, and sum across all ages. Afterwards, we augment the result with the names and abbreviations of the states. "
     ]
    },
    {
     "cell_type": "code",
     "collapsed": false,
     "input": [
      "sc_est2012_sex = sc_est2012_agesex_civ_df_sumlev040.groupby(['STATE', 'REGION', 'DIVISION', 'SEX'], as_index=False)[['POPEST2012_CIV']].sum()\n",
      "sc_est2012_sex = pd.merge(sc_est2012_sex, state, left_on='STATE', right_on='STATE')"
     ],
     "language": "python",
     "metadata": {},
     "outputs": [],
     "prompt_number": 9
    },
    {
     "cell_type": "markdown",
     "metadata": {},
     "source": [
      "For the age information, we group by state, region, division and age and we sum across all sexes. If you see the result, you'll notice that there's a row for each year. This is pretty useful for analysis, but it can be problematic to plot, so we're going to group the rows according to age buckets of 20 years. Once again, we add the state information at the end."
     ]
    },
    {
     "cell_type": "code",
     "collapsed": false,
     "input": [
      "sc_est2012_age = sc_est2012_agesex_civ_df_sumlev040.groupby(['STATE', 'REGION', 'DIVISION', 'AGE'], as_index=False)[['POPEST2012_CIV']].sum()"
     ],
     "language": "python",
     "metadata": {},
     "outputs": [],
     "prompt_number": 10
    },
    {
     "cell_type": "code",
     "collapsed": false,
     "input": [
      "age_buckets = pd.cut(sc_est2012_age.AGE, range(0,100,20))"
     ],
     "language": "python",
     "metadata": {},
     "outputs": [],
     "prompt_number": 11
    },
    {
     "cell_type": "code",
     "collapsed": false,
     "input": [
      "sc_est2012_age = sc_est2012_age.groupby(['STATE', 'REGION', 'DIVISION', age_buckets], as_index=False)['POPEST2012_CIV'].sum()\n",
      "sc_est2012_age = pd.merge(sc_est2012_age, state, left_on='STATE', right_on='STATE')"
     ],
     "language": "python",
     "metadata": {},
     "outputs": [],
     "prompt_number": 12
    },
    {
     "cell_type": "markdown",
     "metadata": {},
     "source": [
      "We also need information about regions and divisions, but since the dataset is small, we'll build the dictionaries by hand."
     ]
    },
    {
     "cell_type": "code",
     "collapsed": false,
     "input": [
      "region_codes = {\n",
      "    0: 'United States Total',\n",
      "    1: 'Northeast',\n",
      "    2: 'Midwest',\n",
      "    3: 'South',\n",
      "    4: 'West'\n",
      "}\n",
      "division_codes = {\n",
      "    0: 'United States Total',\n",
      "    1: 'New England',\n",
      "    2: 'Middle Atlantic',\n",
      "    3: 'East North Central',\n",
      "    4: 'West North Central',\n",
      "    5: 'South Atlantic',\n",
      "    6: 'East South Central',\n",
      "    7: 'West South Central',\n",
      "    8: 'Mountain',\n",
      "    9: 'Pacific'\n",
      "}"
     ],
     "language": "python",
     "metadata": {},
     "outputs": [],
     "prompt_number": 13
    },
    {
     "cell_type": "heading",
     "level": 2,
     "metadata": {},
     "source": [
      "Part 3 - Embedding HighCharts"
     ]
    },
    {
     "cell_type": "markdown",
     "metadata": {},
     "source": [
      "Somewhat in between Charts.js and D3 is [HighCharts](http://www.highcharts.com/). It can produce beautiful and professional looking animated charts without much coding and it can be customized if needed. This time we'll plot the age of the population by region and division. We're going to show one data series per bucket of 20 years. Before we can begin, we need to declare the requirement:"
     ]
    },
    {
     "cell_type": "code",
     "collapsed": false,
     "input": [
      "%%javascript\n",
      "require.config({\n",
      "    paths: {\n",
      "        highcharts: '//cdnjs.cloudflare.com/ajax/libs/highcharts/4.0.1/highcharts'\n",
      "    }\n",
      "});"
     ],
     "language": "python",
     "metadata": {},
     "outputs": [
      {
       "javascript": [
        "require.config({\n",
        "    paths: {\n",
        "        highcharts: '//cdnjs.cloudflare.com/ajax/libs/highcharts/4.0.1/highcharts'\n",
        "    }\n",
        "});"
       ],
       "metadata": {},
       "output_type": "display_data",
       "text": [
        "<IPython.core.display.Javascript at 0x7f2b5b1cf250>"
       ]
      }
     ],
     "prompt_number": 15
    },
    {
     "cell_type": "markdown",
     "metadata": {},
     "source": [
      "Then, we use the same trick with `interact`, `display` and `JavaScript`:"
     ]
    },
    {
     "cell_type": "heading",
     "level": 3,
     "metadata": {},
     "source": [
      "display_chart_highcharts"
     ]
    },
    {
     "cell_type": "code",
     "collapsed": false,
     "input": [
      "def display_chart_highcharts(sc_est2012_age, show_javascript, show, div):\n",
      "    sc_est2012_age_template = jinja2.Template(\n",
      "    \"\"\"\n",
      "    require([\"highcharts\"], function() {\n",
      "        $('#chart_highcharts').highcharts({\n",
      "            chart: {\n",
      "                type: 'line'\n",
      "            },\n",
      "            title: {\n",
      "                text: 'Population By Age'\n",
      "            },\n",
      "            subtitle: {\n",
      "                text: 'Source: www.census.gov'\n",
      "            },\n",
      "            xAxis: {\n",
      "                categories: {{ categories }}\n",
      "            },\n",
      "            yAxis: {\n",
      "                min: 0,\n",
      "                title: {\n",
      "                    text: 'Population'\n",
      "                }\n",
      "            },\n",
      "            plotOptions: {\n",
      "                column: {\n",
      "                    pointPadding: 0.2,\n",
      "                    borderWidth: 0\n",
      "                }\n",
      "            },\n",
      "            series: {{ series }}\n",
      "        });\n",
      "    });\n",
      "    \"\"\"\n",
      "    )\n",
      "    \n",
      "    if show == 'by_region':\n",
      "        data_frame = sc_est2012_age.groupby(['REGION', 'AGE'], as_index=False)[['POPEST2012_CIV']].sum()\n",
      "        categories = [region_codes[code] for code in data_frame['REGION'].drop_duplicates()]\n",
      "    elif show == 'by_division':\n",
      "        data_frame = sc_est2012_age.groupby(['DIVISION', 'AGE'], as_index=False)[['POPEST2012_CIV']].sum()\n",
      "        categories = [division_codes[code] for code in data_frame['DIVISION'].drop_duplicates()]\n",
      "        \n",
      "    series_names = data_frame['AGE'].drop_duplicates().tolist()\n",
      "    series = [{\n",
      "        'name': series_name, 'data': data_frame[data_frame.AGE == series_name]['POPEST2012_CIV'].tolist()\n",
      "    } for series_name in series_names]\n",
      "    \n",
      "    rendered_template = sc_est2012_age_template.render(\n",
      "        categories=dumps(categories),\n",
      "        series=dumps(series)\n",
      "    )\n",
      "\n",
      "    if show_javascript:\n",
      "        display(widgets.PopupWidget(children=(widgets.HTMLWidget(value='<div style=\"width:600px; height: 400px; overflow:scroll;\"><pre>{}</pre></div>'.format(rendered_template)),)))\n",
      "\n",
      "    display(Javascript(rendered_template))"
     ],
     "language": "python",
     "metadata": {},
     "outputs": [],
     "prompt_number": 16
    },
    {
     "cell_type": "code",
     "collapsed": false,
     "input": [
      "i = interact(\n",
      "    display_chart_highcharts,\n",
      "    sc_est2012_age=widgets.fixed(sc_est2012_age),\n",
      "    show_javascript=widgets.CheckboxWidget(value=False),\n",
      "    show=widgets.DropdownWidget(\n",
      "        values={'By Region':'by_region', 'By Division': 'by_division'},\n",
      "        value='by_region'\n",
      "    ),\n",
      "    div=widgets.HTMLWidget(value='<div id=\"chart_highcharts\"></div>')\n",
      ")"
     ],
     "language": "python",
     "metadata": {},
     "outputs": [
      {
       "javascript": [
        "\n",
        "    require([\"highcharts\"], function() {\n",
        "        $('#chart_highcharts').highcharts({\n",
        "            chart: {\n",
        "                type: 'line'\n",
        "            },\n",
        "            title: {\n",
        "                text: 'Population By Age'\n",
        "            },\n",
        "            subtitle: {\n",
        "                text: 'Source: www.census.gov'\n",
        "            },\n",
        "            xAxis: {\n",
        "                categories: [\"New England\", \"Middle Atlantic\", \"East North Central\", \"West North Central\", \"South Atlantic\", \"East South Central\", \"West South Central\", \"Mountain\", \"Pacific\"]\n",
        "            },\n",
        "            yAxis: {\n",
        "                min: 0,\n",
        "                title: {\n",
        "                    text: 'Population'\n",
        "                }\n",
        "            },\n",
        "            plotOptions: {\n",
        "                column: {\n",
        "                    pointPadding: 0.2,\n",
        "                    borderWidth: 0\n",
        "                }\n",
        "            },\n",
        "            series: [{\"data\": [3596073, 10278890, 12339129, 5586015, 15499257, 4912066, 10804296, 6318851, 13645489], \"name\": \"(0, 20]\"}, {\"data\": [3620706, 10762770, 11900302, 5331837, 15827405, 4826341, 10339056, 6145187, 14199106], \"name\": \"(20, 40]\"}, {\"data\": [4305411, 11686938, 13016977, 5610745, 16798093, 5082000, 9642610, 5794180, 13648025], \"name\": \"(40, 60]\"}, {\"data\": [2292301, 6340404, 7054737, 3117232, 9831558, 2947174, 4954168, 3314884, 6974026], \"name\": \"(60, 80]\"}]\n",
        "        });\n",
        "    });\n",
        "    "
       ],
       "metadata": {},
       "output_type": "display_data",
       "text": [
        "<IPython.core.display.Javascript at 0x7f2b5beb74d0>"
       ]
      }
     ],
     "prompt_number": 17
    },
    {
     "cell_type": "heading",
     "level": 2,
     "metadata": {},
     "source": [
      "Conclusions"
     ]
    },
    {
     "cell_type": "markdown",
     "metadata": {},
     "source": [
      "We showed you how to integrate three popular JavaScript charting solutions within an IPython Notebook, and how to make them interactive using HTML widgets. Following this pattern it is quite easy to integrate other libraries like [Google Charts](https://developers.google.com/chart/) (it's trivial using the [goog](https://github.com/millermedeiros/requirejs-plugins) RequireJS plugins), [AmCharts](http://www.amcharts.com/) or [JqPlot](http://www.jqplot.com/)."
     ]
    },
    {
     "cell_type": "markdown",
     "metadata": {},
     "source": [
      "We also used a little bit of Pandas magic to arrange the data to fit our needs."
     ]
    }
   ],
   "metadata": {}
  }
 ]
}