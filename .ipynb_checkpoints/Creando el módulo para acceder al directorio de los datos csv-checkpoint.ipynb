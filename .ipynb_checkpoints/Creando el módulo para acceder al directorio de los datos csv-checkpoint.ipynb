{
 "metadata": {
  "name": "",
  "signature": "sha256:135abe32004e80f6443a3bf94e6cc50bb145cf654650edce91df95213bf06684"
 },
 "nbformat": 3,
 "nbformat_minor": 0,
 "worksheets": [
  {
   "cells": [
    {
     "cell_type": "code",
     "collapsed": false,
     "input": [
      "import os\n",
      "\n",
      "def obtener_archivos(directorio , fecha=None):\n",
      "\n",
      "    directorio_actual = os.getcwd()\n",
      "    lista_dir_act = directorio_actual.split('/')\n",
      "    if directorio_actual == directorio or directorio == lista_dir_act[-1]: #verificamos si los archivos est\u00e1n en el mismo directorio del m\u00f3dulo\n",
      "        return 'est\u00e1'\n",
      "    elif os.path.exists(directorio): #si no probamos si est\u00e1 en una carpeta dentro del directorio actual\n",
      "        os.chdir(directorio) #y si est\u00e1 entramos a esa carpeta\n",
      "        return os.getcwd()\n",
      "    else:\n",
      "        return '''Error, ingrese el directorio completo:\n",
      "                \n",
      "    linux: '/home/user/.../carpeta' \n",
      "                \n",
      "    windows: 'C:\\Usuario\\Escritorio\\Carpeta' '''\n",
      "\n",
      "print obtener_archivos('dia23')"
     ],
     "language": "python",
     "metadata": {},
     "outputs": [
      {
       "output_type": "stream",
       "stream": "stdout",
       "text": [
        "Error, ingrese el directorio completo:\n",
        "                \n",
        "    linux: '/home/user/.../carpeta' \n",
        "                \n",
        "    windows: 'C:\\Usuario\\Escritorio\\Carpeta' \n"
       ]
      }
     ],
     "prompt_number": 2
    },
    {
     "cell_type": "code",
     "collapsed": false,
     "input": [
      "if  '\\usuario\\Escritorio'.find('\\ '):\n",
      "    print True"
     ],
     "language": "python",
     "metadata": {},
     "outputs": [
      {
       "output_type": "stream",
       "stream": "stdout",
       "text": [
        "True\n"
       ]
      }
     ],
     "prompt_number": 5
    },
    {
     "cell_type": "code",
     "collapsed": false,
     "input": [
      "lista = ['WSlog', 'b']"
     ],
     "language": "python",
     "metadata": {},
     "outputs": []
    },
    {
     "cell_type": "code",
     "collapsed": false,
     "input": [
      "for i in xrange(0,len(lista)-1):\n",
      "        if not 'WSlog' in lista[i]:\n",
      "            lista.remove(i-1)"
     ],
     "language": "python",
     "metadata": {},
     "outputs": []
    },
    {
     "cell_type": "code",
     "collapsed": false,
     "input": [
      "lista"
     ],
     "language": "python",
     "metadata": {},
     "outputs": []
    },
    {
     "cell_type": "code",
     "collapsed": false,
     "input": [
      "ls"
     ],
     "language": "python",
     "metadata": {},
     "outputs": []
    },
    {
     "cell_type": "code",
     "collapsed": false,
     "input": [],
     "language": "python",
     "metadata": {},
     "outputs": []
    }
   ],
   "metadata": {}
  }
 ]
}