{
 "metadata": {
  "celltoolbar": "Slideshow",
  "name": "",
  "signature": "sha256:1bd5b851e6b8f942f750e542c32c39da93f409905a55c8a3337e24dd655d69ae"
 },
 "nbformat": 3,
 "nbformat_minor": 0,
 "worksheets": [
  {
   "cells": [
    {
     "cell_type": "heading",
     "level": 1,
     "metadata": {
      "internals": {
       "slide_helper": "subslide_end",
       "slide_type": "subslide"
      },
      "slide_helper": "subslide_end",
      "slideshow": {
       "slide_type": "slide"
      }
     },
     "source": [
      "Presentaci\u00f3n Idea de Tesis"
     ]
    },
    {
     "cell_type": "markdown",
     "metadata": {
      "internals": {
       "slide_type": "subslide"
      },
      "slideshow": {
       "slide_type": "subslide"
      }
     },
     "source": [
      "<p style=\"text-align: center;\"><i class=\"icon-user icon-2x\"> Rodrigo Lara</i></p>\n",
      "\n",
      "<p style=\"text-align: center;\"><i class=\"icon-twitter icon-2x\"> [@lesterxileno](http://twitter.com/lesterxileno)</i></p>\n",
      "\n",
      "<p style=\"text-align: center;\"><i class=\"icon-github icon-2x\"> [ereodeereigeo](https://github.com/ereodeereigeo)</i></p>\n",
      "\n",
      "<p style=\"text-align: center;\"><i class=\"icon-envelope-alt icon-2x\"> <a href=\"mailto:ereodeereigeo@gmail.com\">ereodeereigeo@gmail.com</a></i></p>\n"
     ]
    },
    {
     "cell_type": "markdown",
     "metadata": {},
     "source": []
    }
   ],
   "metadata": {}
  }
 ]
}