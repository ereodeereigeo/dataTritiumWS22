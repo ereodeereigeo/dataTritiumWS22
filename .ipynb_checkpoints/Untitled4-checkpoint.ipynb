{
 "metadata": {
  "name": "",
  "signature": "sha256:af29609698871f41cf1023adf28a0934eadda640706326fac48cd1375893c822"
 },
 "nbformat": 3,
 "nbformat_minor": 0,
 "worksheets": []
}