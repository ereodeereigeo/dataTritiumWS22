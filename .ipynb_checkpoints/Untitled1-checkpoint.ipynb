{
 "metadata": {
  "name": "",
  "signature": "sha256:4676b921e5be6ba7ac4124c414f2d2d1c39d10e64af1dd24ecb890da6f41e9fd"
 },
 "nbformat": 3,
 "nbformat_minor": 0,
 "worksheets": []
}