{
 "metadata": {
  "name": "",
  "signature": "sha256:789a6efab003a3bb1e797e2d8963b8bc88d5458cebb3292394862b4deca3e4ea"
 },
 "nbformat": 3,
 "nbformat_minor": 0,
 "worksheets": [
  {
   "cells": [
    {
     "cell_type": "markdown",
     "metadata": {
      "internals": {
       "slide_type": "subslide"
      },
      "slideshow": {
       "slide_type": "slide"
      }
     },
     "source": [
      "##Presentaci\u00f3n Resultados Preliminares analisis de datos"
     ]
    },
    {
     "cell_type": "markdown",
     "metadata": {
      "internals": {
       "frag_number": 1
      },
      "slideshow": {
       "slide_type": "fragment"
      }
     },
     "source": [
      "- ###Programa\n",
      "- ###Gr\u00e1ficos De Datos\n",
      "- ###Comentarios"
     ]
    },
    {
     "cell_type": "markdown",
     "metadata": {
      "internals": {
       "frag_helper": "fragment_end",
       "frag_number": 1,
       "slide_helper": "subslide_end"
      },
      "slide_helper": "slide_end",
      "slideshow": {
       "slide_type": "-"
      }
     },
     "source": []
    }
   ],
   "metadata": {}
  }
 ]
}